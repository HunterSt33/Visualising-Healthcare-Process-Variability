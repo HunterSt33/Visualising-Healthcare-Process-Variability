{
 "cells": [
  {
   "cell_type": "markdown",
   "source": [
    "# Trace Generation"
   ],
   "metadata": {
    "collapsed": false,
    "pycharm": {
     "name": "#%% md\n"
    }
   }
  },
  {
   "cell_type": "markdown",
   "source": [
    "After manually finish the encoding for all distinct events, next step is to generate the traces from the event log to analyse the variability"
   ],
   "metadata": {
    "collapsed": false,
    "pycharm": {
     "name": "#%% md\n"
    }
   }
  },
  {
   "cell_type": "code",
   "execution_count": 1,
   "outputs": [],
   "source": [
    "import csv\n",
    "from datetime import datetime"
   ],
   "metadata": {
    "collapsed": false,
    "pycharm": {
     "name": "#%%\n"
    }
   }
  },
  {
   "cell_type": "code",
   "execution_count": 2,
   "outputs": [
    {
     "name": "stdout",
     "output_type": "stream",
     "text": [
      "[['EventName', 'EventCode'], ['Glucose', 'L1'], ['CBC', 'L2'], ['ABG', 'L3'], ['Specimen Type', 'L4'], ['Electrolytes', 'L5'], ['Calcium', 'L6'], ['Creatinine', 'L7'], ['Urea Nitrogen', 'L8'], ['Metoprolol', 'M1'], ['Diuretic', 'M2'], ['Insulin', 'M3'], ['Acetaminophen', 'M4'], ['Ranitidine', 'M5'], ['Aspirin', 'M6'], ['Opioid', 'M7'], ['Dextrose 50%', 'M8'], ['Magnesium Sulfate', 'M9'], ['Propofol', 'M10'], ['CefazoLIN', 'M11'], ['Nitroglycerin', 'M12'], ['Amiodarone', 'M13'], ['Metoclopramide', 'M14'], ['Ketorolac', 'M15'], ['PHENYLEPHrine', 'M16'], ['Warfarin', 'M17'], ['Calcium Gluconate', 'M18'], ['Glucagon', 'M19'], ['Lipid Loweding', 'M20'], ['Oxycodone-Acetaminophen', 'M21'], ['Albumin', 'M22'], ['HydrALAzine', 'M23'], ['Vancomycin', 'M24'], ['Ondansetron', 'M25'], ['Lisinopril', 'M26'], ['Albuterol', 'M27'], ['MetFORMIN (Glucophage)', 'M28'], ['Lorazepam', 'M29'], ['Clopidogrel', 'M30'], ['Pantoprazole', 'M31'], ['CSURG', 'S1'], ['MED', 'S2'], ['CMED', 'S3'], ['SURG', 'S4'], ['TSURG', 'S5'], ['Admission', 'A'], ['Discharge', 'D']]\n"
     ]
    }
   ],
   "source": [
    "with open('events_encoding.csv', newline='') as file:\n",
    "    reader = csv.reader(file)\n",
    "    event_code = list(reader)\n",
    "\n",
    "file.close()\n",
    "print(event_code)"
   ],
   "metadata": {
    "collapsed": false,
    "pycharm": {
     "name": "#%%\n"
    }
   }
  },
  {
   "cell_type": "markdown",
   "source": [
    "Create a dictionary to hold the encoding relationship"
   ],
   "metadata": {
    "collapsed": false,
    "pycharm": {
     "name": "#%% md\n"
    }
   }
  },
  {
   "cell_type": "code",
   "execution_count": 3,
   "outputs": [
    {
     "name": "stdout",
     "output_type": "stream",
     "text": [
      "{'Glucose': 'L1', 'CBC': 'L2', 'ABG': 'L3', 'Specimen Type': 'L4', 'Electrolytes': 'L5', 'Calcium': 'L6', 'Creatinine': 'L7', 'Urea Nitrogen': 'L8', 'Metoprolol': 'M1', 'Diuretic': 'M2', 'Insulin': 'M3', 'Acetaminophen': 'M4', 'Ranitidine': 'M5', 'Aspirin': 'M6', 'Opioid': 'M7', 'Dextrose 50%': 'M8', 'Magnesium Sulfate': 'M9', 'Propofol': 'M10', 'CefazoLIN': 'M11', 'Nitroglycerin': 'M12', 'Amiodarone': 'M13', 'Metoclopramide': 'M14', 'Ketorolac': 'M15', 'PHENYLEPHrine': 'M16', 'Warfarin': 'M17', 'Calcium Gluconate': 'M18', 'Glucagon': 'M19', 'Lipid Loweding': 'M20', 'Oxycodone-Acetaminophen': 'M21', 'Albumin': 'M22', 'HydrALAzine': 'M23', 'Vancomycin': 'M24', 'Ondansetron': 'M25', 'Lisinopril': 'M26', 'Albuterol': 'M27', 'MetFORMIN (Glucophage)': 'M28', 'Lorazepam': 'M29', 'Clopidogrel': 'M30', 'Pantoprazole': 'M31', 'CSURG': 'S1', 'MED': 'S2', 'CMED': 'S3', 'SURG': 'S4', 'TSURG': 'S5', 'Admission': 'A', 'Discharge': 'D'}\n"
     ]
    }
   ],
   "source": [
    "#create the dict to hold the conversion relationship\n",
    "encoding_dict = {}\n",
    "for event in event_code[1:]:\n",
    "    encoding_dict[event[0]] = event[1]\n",
    "print(encoding_dict)"
   ],
   "metadata": {
    "collapsed": false,
    "pycharm": {
     "name": "#%%\n"
    }
   }
  },
  {
   "cell_type": "markdown",
   "source": [
    "Substitute the event name with the codes"
   ],
   "metadata": {
    "collapsed": false,
    "pycharm": {
     "name": "#%% md\n"
    }
   }
  },
  {
   "cell_type": "code",
   "execution_count": 4,
   "outputs": [
    {
     "name": "stdout",
     "output_type": "stream",
     "text": [
      "[['PatientID', 'Events', 'StartTime'], ['10002013', 'CBC', '2160-05-18T09:19:00'], ['10002013', 'Calcium', '2160-05-18T09:19:00'], ['10002013', 'ABG', '2160-05-18T09:19:00'], ['10002013', 'ABG', '2160-05-18T09:19:00'], ['10002013', 'CBC', '2160-05-18T09:19:00'], ['10002013', 'ABG', '2160-05-18T09:19:00'], ['10002013', 'Glucose', '2160-05-18T09:19:00'], ['10002013', 'ABG', '2160-05-18T09:19:00'], ['10002013', 'Electrolytes', '2160-05-18T09:19:00']]\n"
     ]
    }
   ],
   "source": [
    "with open('events_final.csv', newline='') as file1:\n",
    "    reader1 = csv.reader(file1)\n",
    "    final_filtered_events = list(reader1)\n",
    "\n",
    "file1.close()\n",
    "print(final_filtered_events[:10])"
   ],
   "metadata": {
    "collapsed": false,
    "pycharm": {
     "name": "#%%\n"
    }
   }
  },
  {
   "cell_type": "code",
   "execution_count": 5,
   "outputs": [
    {
     "name": "stdout",
     "output_type": "stream",
     "text": [
      "[['PatientID', 'Events', 'StartTime'], ['10002013', 'L2', '2160-05-18T09:19:00'], ['10002013', 'L6', '2160-05-18T09:19:00'], ['10002013', 'L3', '2160-05-18T09:19:00'], ['10002013', 'L3', '2160-05-18T09:19:00'], ['10002013', 'L2', '2160-05-18T09:19:00'], ['10002013', 'L3', '2160-05-18T09:19:00'], ['10002013', 'L1', '2160-05-18T09:19:00'], ['10002013', 'L3', '2160-05-18T09:19:00'], ['10002013', 'L5', '2160-05-18T09:19:00'], ['10002013', 'L3', '2160-05-18T09:19:00'], ['10002013', 'L5', '2160-05-18T09:19:00'], ['10002013', 'L5', '2160-05-18T09:19:00'], ['10002013', 'L4', '2160-05-18T09:19:00'], ['10002013', 'L5', '2160-05-18T10:26:00'], ['10002013', 'L3', '2160-05-18T10:26:00'], ['10002013', 'L1', '2160-05-18T10:26:00'], ['10002013', 'L2', '2160-05-18T10:26:00'], ['10002013', 'L6', '2160-05-18T10:26:00'], ['10002013', 'L3', '2160-05-18T10:26:00']]\n"
     ]
    }
   ],
   "source": [
    "#convert the events into codes\n",
    "for event in final_filtered_events[1:]:\n",
    "    if event[1] in encoding_dict.keys():\n",
    "        event[1] = encoding_dict[event[1]]\n",
    "    #else:\n",
    "        #event[1] = 'NOT ENCODED, PLEASE CHECK AGAIN'\n",
    "print(final_filtered_events[:20])"
   ],
   "metadata": {
    "collapsed": false,
    "pycharm": {
     "name": "#%%\n"
    }
   }
  },
  {
   "cell_type": "markdown",
   "source": [
    "double check if all the events have been encoded"
   ],
   "metadata": {
    "collapsed": false,
    "pycharm": {
     "name": "#%% md\n"
    }
   }
  },
  {
   "cell_type": "code",
   "execution_count": 6,
   "outputs": [],
   "source": [
    "#find if there is any event that has not been encoded yet\n",
    "for event in final_filtered_events[1:]:\n",
    "    if len(event[1]) > 3:\n",
    "        print(event)\n"
   ],
   "metadata": {
    "collapsed": false,
    "pycharm": {
     "name": "#%%\n"
    }
   }
  },
  {
   "cell_type": "markdown",
   "source": [
    "Nothing has been printed out, meaning that all events have been converted successfully"
   ],
   "metadata": {
    "collapsed": false,
    "pycharm": {
     "name": "#%% md\n"
    }
   }
  },
  {
   "cell_type": "code",
   "execution_count": 7,
   "outputs": [],
   "source": [
    "#write to file for the encoded event log\n",
    "write_file = open('encoded_event.csv', 'w')\n",
    "writer = csv.writer(write_file)\n",
    "for row in final_filtered_events:\n",
    "    writer.writerow([row[0], row[1], row[2]])\n",
    "write_file.close()"
   ],
   "metadata": {
    "collapsed": false,
    "pycharm": {
     "name": "#%%\n"
    }
   }
  },
  {
   "cell_type": "markdown",
   "source": [
    "In the next step, we will start to generat the trace"
   ],
   "metadata": {
    "collapsed": false,
    "pycharm": {
     "name": "#%% md\n"
    }
   }
  },
  {
   "cell_type": "code",
   "execution_count": 8,
   "outputs": [
    {
     "name": "stdout",
     "output_type": "stream",
     "text": [
      "[['L2', '2160-05-18T09:19:00'], ['L6', '2160-05-18T09:19:00'], ['L3', '2160-05-18T09:19:00'], ['L3', '2160-05-18T09:19:00'], ['L2', '2160-05-18T09:19:00'], ['L3', '2160-05-18T09:19:00'], ['L1', '2160-05-18T09:19:00'], ['L3', '2160-05-18T09:19:00'], ['L5', '2160-05-18T09:19:00'], ['L3', '2160-05-18T09:19:00'], ['L5', '2160-05-18T09:19:00'], ['L5', '2160-05-18T09:19:00'], ['L4', '2160-05-18T09:19:00'], ['L5', '2160-05-18T10:26:00'], ['L3', '2160-05-18T10:26:00'], ['L1', '2160-05-18T10:26:00'], ['L2', '2160-05-18T10:26:00'], ['L6', '2160-05-18T10:26:00'], ['L3', '2160-05-18T10:26:00'], ['L3', '2160-05-18T10:26:00'], ['L2', '2160-05-18T10:26:00'], ['L3', '2160-05-18T10:26:00'], ['L4', '2160-05-18T10:26:00'], ['L5', '2160-05-18T10:26:00'], ['L5', '2160-05-18T10:26:00'], ['L3', '2160-05-18T10:26:00'], ['L2', '2160-05-18T11:23:00'], ['L3', '2160-05-18T11:23:00'], ['L1', '2160-05-18T11:23:00'], ['L5', '2160-05-18T11:23:00'], ['L3', '2160-05-18T11:23:00'], ['L2', '2160-05-18T11:23:00'], ['L3', '2160-05-18T11:23:00'], ['L5', '2160-05-18T11:23:00'], ['L3', '2160-05-18T11:23:00'], ['L5', '2160-05-18T11:23:00'], ['L6', '2160-05-18T11:23:00'], ['L3', '2160-05-18T11:23:00'], ['L4', '2160-05-18T11:23:00'], ['L3', '2160-05-18T12:20:00'], ['L6', '2160-05-18T12:20:00'], ['L3', '2160-05-18T12:20:00'], ['L3', '2160-05-18T12:20:00'], ['L5', '2160-05-18T12:20:00'], ['L2', '2160-05-18T12:20:00'], ['L3', '2160-05-18T12:20:00'], ['L4', '2160-05-18T12:20:00'], ['L5', '2160-05-18T12:20:00'], ['L1', '2160-05-18T12:20:00'], ['L2', '2160-05-18T12:20:00'], ['L3', '2160-05-18T12:20:00'], ['L5', '2160-05-18T12:20:00'], ['L2', '2160-05-18T13:01:00'], ['L2', '2160-05-18T13:01:00'], ['L2', '2160-05-18T13:01:00'], ['L2', '2160-05-18T13:01:00'], ['L2', '2160-05-18T13:01:00'], ['L2', '2160-05-18T13:01:00'], ['L2', '2160-05-18T13:01:00'], ['L2', '2160-05-18T13:01:00'], ['L2', '2160-05-18T13:01:00'], ['L3', '2160-05-18T13:02:00'], ['L5', '2160-05-18T13:02:00'], ['L2', '2160-05-18T13:02:00'], ['L3', '2160-05-18T13:02:00'], ['L5', '2160-05-18T13:02:00'], ['L6', '2160-05-18T13:02:00'], ['L3', '2160-05-18T13:02:00'], ['L5', '2160-05-18T13:02:00'], ['L3', '2160-05-18T13:02:00'], ['L3', '2160-05-18T13:02:00'], ['L4', '2160-05-18T13:02:00'], ['L1', '2160-05-18T13:02:00'], ['L2', '2160-05-18T13:02:00'], ['L5', '2160-05-18T14:38:00'], ['L2', '2160-05-18T14:38:00'], ['L5', '2160-05-18T14:38:00'], ['L2', '2160-05-18T14:38:00'], ['L7', '2160-05-18T14:38:00'], ['L2', '2160-05-18T14:38:00'], ['L2', '2160-05-18T14:38:00'], ['L5', '2160-05-18T14:38:00'], ['L8', '2160-05-18T14:38:00'], ['L2', '2160-05-18T14:38:00'], ['L2', '2160-05-18T14:38:00'], ['L2', '2160-05-18T14:38:00'], ['L2', '2160-05-18T14:38:00'], ['L2', '2160-05-18T14:38:00'], ['L5', '2160-05-18T14:46:00'], ['L3', '2160-05-18T14:46:00'], ['L3', '2160-05-18T14:46:00'], ['L6', '2160-05-18T14:46:00'], ['L3', '2160-05-18T14:46:00'], ['L3', '2160-05-18T14:46:00'], ['L4', '2160-05-18T14:46:00'], ['L3', '2160-05-18T14:46:00'], ['L5', '2160-05-18T14:46:00'], ['L1', '2160-05-18T14:46:00'], ['L3', '2160-05-18T16:03:00'], ['L3', '2160-05-18T16:03:00'], ['L3', '2160-05-18T16:03:00'], ['L3', '2160-05-18T16:03:00'], ['L3', '2160-05-18T16:03:00'], ['L1', '2160-05-18T16:03:00'], ['L6', '2160-05-18T16:03:00'], ['L4', '2160-05-18T16:03:00'], ['L5', '2160-05-18T17:30:00'], ['L5', '2160-05-18T17:30:00'], ['L2', '2160-05-18T17:30:00'], ['L5', '2160-05-18T17:30:00'], ['L3', '2160-05-18T17:42:00'], ['L1', '2160-05-18T17:42:00'], ['L3', '2160-05-18T17:42:00'], ['L3', '2160-05-18T17:42:00'], ['L3', '2160-05-18T17:42:00'], ['L6', '2160-05-18T17:42:00'], ['L4', '2160-05-18T17:42:00'], ['L3', '2160-05-18T17:42:00'], ['L1', '2160-05-18T21:32:00'], ['L3', '2160-05-18T21:32:00'], ['L5', '2160-05-18T21:32:00'], ['L6', '2160-05-18T21:32:00'], ['L3', '2160-05-18T21:32:00'], ['L3', '2160-05-18T21:32:00'], ['L3', '2160-05-18T21:32:00'], ['L3', '2160-05-18T21:32:00'], ['L4', '2160-05-18T21:32:00'], ['L2', '2160-05-19T04:00:00'], ['L2', '2160-05-19T04:00:00'], ['L8', '2160-05-19T04:00:00'], ['L7', '2160-05-19T04:00:00'], ['L2', '2160-05-19T04:00:00'], ['L2', '2160-05-19T04:00:00'], ['L2', '2160-05-19T04:00:00'], ['L2', '2160-05-19T04:00:00'], ['L5', '2160-05-19T04:00:00'], ['L1', '2160-05-19T04:00:00'], ['L5', '2160-05-19T04:00:00'], ['L2', '2160-05-19T04:00:00'], ['L5', '2160-05-19T04:00:00'], ['L2', '2160-05-19T04:00:00'], ['L2', '2160-05-19T04:00:00'], ['L1', '2160-05-19T04:10:00'], ['L4', '2160-05-19T04:10:00'], ['L6', '2160-05-19T04:10:00'], ['L5', '2160-05-19T04:10:00'], ['L3', '2160-05-19T04:10:00'], ['L2', '2160-05-20T08:20:00'], ['L2', '2160-05-20T08:20:00'], ['L2', '2160-05-20T08:20:00'], ['L8', '2160-05-20T08:20:00'], ['L7', '2160-05-20T08:20:00'], ['L5', '2160-05-20T08:20:00'], ['L5', '2160-05-20T08:20:00'], ['L2', '2160-05-20T08:20:00'], ['L2', '2160-05-20T08:20:00'], ['L2', '2160-05-20T08:20:00'], ['L2', '2160-05-20T08:20:00'], ['L2', '2160-05-20T08:20:00'], ['L2', '2160-05-20T08:20:00'], ['L1', '2160-05-20T08:20:00'], ['L5', '2160-05-20T08:20:00'], ['L5', '2160-05-21T08:00:00'], ['L5', '2160-05-21T08:00:00'], ['L5', '2160-05-21T08:00:00'], ['L1', '2160-05-21T08:00:00'], ['L8', '2160-05-21T08:00:00'], ['L7', '2160-05-21T08:00:00'], ['L2', '2160-05-22T06:15:00'], ['L2', '2160-05-22T06:15:00'], ['L2', '2160-05-22T06:15:00'], ['L1', '2160-05-22T06:15:00'], ['L5', '2160-05-22T06:15:00'], ['L5', '2160-05-22T06:15:00'], ['L2', '2160-05-22T06:15:00'], ['L2', '2160-05-22T06:15:00'], ['L2', '2160-05-22T06:15:00'], ['L5', '2160-05-22T06:15:00'], ['L2', '2160-05-22T06:15:00'], ['L7', '2160-05-22T06:15:00'], ['L8', '2160-05-22T06:15:00'], ['L2', '2160-05-22T06:15:00'], ['L2', '2160-05-22T06:15:00'], ['L2', '2160-05-23T06:05:00'], ['L2', '2160-05-23T06:05:00'], ['L2', '2160-05-23T06:05:00'], ['L2', '2160-05-23T06:05:00'], ['L2', '2160-05-23T06:05:00'], ['L5', '2160-05-23T06:05:00'], ['L2', '2160-05-23T06:05:00'], ['L2', '2160-05-23T06:05:00'], ['L2', '2160-05-23T06:05:00'], ['L2', '2160-05-23T06:05:00'], ['L5', '2160-05-23T06:05:00'], ['L5', '2160-05-23T06:05:00'], ['M20', '2160-05-18T10:00:00'], ['M30', '2160-05-18T10:00:00'], ['M16', '2160-05-18T11:00:00'], ['M7', '2160-05-18T11:00:00'], ['M7', '2160-05-18T11:00:00'], ['M18', '2160-05-18T11:00:00'], ['M14', '2160-05-18T11:00:00'], ['M9', '2160-05-18T11:00:00'], ['M11', '2160-05-18T11:00:00'], ['M12', '2160-05-18T11:00:00'], ['M12', '2160-05-18T11:00:00'], ['M3', '2160-05-18T11:00:00'], ['M21', '2160-05-18T11:00:00'], ['M16', '2160-05-18T11:00:00'], ['M8', '2160-05-18T11:00:00'], ['M4', '2160-05-18T11:00:00'], ['M4', '2160-05-18T11:00:00'], ['M10', '2160-05-18T11:00:00'], ['M7', '2160-05-18T11:00:00'], ['M23', '2160-05-18T18:00:00'], ['M15', '2160-05-18T20:00:00'], ['M5', '2160-05-18T20:00:00'], ['M5', '2160-05-18T20:00:00'], ['M15', '2160-05-18T21:00:00'], ['M15', '2160-05-18T21:00:00'], ['M1', '2160-05-18T22:00:00'], ['M4', '2160-05-19T00:00:00'], ['M22', '2160-05-19T03:00:00'], ['M2', '2160-05-19T06:00:00'], ['M20', '2160-05-19T10:00:00'], ['M30', '2160-05-19T10:00:00'], ['M6', '2160-05-19T10:00:00'], ['M6', '2160-05-19T10:00:00'], ['M6', '2160-05-19T10:00:00'], ['M3', '2160-05-19T17:00:00'], ['M3', '2160-05-19T18:00:00'], ['M11', '2160-05-19T18:00:00'], ['M19', '2160-05-19T18:00:00'], ['M2', '2160-05-19T18:00:00'], ['M21', '2160-05-19T18:00:00'], ['M4', '2160-05-19T18:00:00'], ['M8', '2160-05-19T18:00:00'], ['M2', '2160-05-19T20:00:00'], ['M5', '2160-05-19T20:00:00'], ['M1', '2160-05-19T20:00:00'], ['M1', '2160-05-19T20:00:00'], ['M3', '2160-05-19T22:00:00'], ['M3', '2160-05-20T19:00:00'], ['M3', '2160-05-20T22:00:00'], ['M1', '2160-05-21T08:00:00'], ['M3', '2160-05-21T13:00:00'], ['M1', '2160-05-21T14:00:00'], ['M2', '2160-05-21T18:00:00'], ['M3', '2160-05-21T22:00:00'], ['M3', '2160-05-22T01:00:00'], ['M3', '2160-05-22T22:00:00'], ['M31', '2160-05-22T23:00:00'], ['S1', '2160-05-18T01:49:32'], ['A', '2160-05-18T07:45:00'], ['D', '2160-05-23T13:30:00']]\n"
     ]
    }
   ],
   "source": [
    "#create a dict as the trace matrix to hold all traces\n",
    "trace_raw = dict()\n",
    "for event in final_filtered_events[1:]:\n",
    "    if event[0] not in trace_raw.keys():\n",
    "        trace_raw[event[0]] = [[event[1], event[2]]]\n",
    "    else:\n",
    "        trace_raw[event[0]].append([event[1], event[2]])\n",
    "print(trace_raw['10002013'])"
   ],
   "metadata": {
    "collapsed": false,
    "pycharm": {
     "name": "#%%\n"
    }
   }
  },
  {
   "cell_type": "markdown",
   "source": [
    "Order the traces based on the timestamp. However, the timestamp is stored in the form of string so a conversion is required. After converting to the correct time, we will sort the event based on the time."
   ],
   "metadata": {
    "collapsed": false
   }
  },
  {
   "cell_type": "code",
   "execution_count": 9,
   "outputs": [
    {
     "name": "stdout",
     "output_type": "stream",
     "text": [
      "[['S1', datetime.datetime(2160, 5, 18, 1, 49, 32)], ['A', datetime.datetime(2160, 5, 18, 7, 45)], ['L2', datetime.datetime(2160, 5, 18, 9, 19)], ['L6', datetime.datetime(2160, 5, 18, 9, 19)], ['L3', datetime.datetime(2160, 5, 18, 9, 19)], ['L3', datetime.datetime(2160, 5, 18, 9, 19)], ['L2', datetime.datetime(2160, 5, 18, 9, 19)], ['L3', datetime.datetime(2160, 5, 18, 9, 19)], ['L1', datetime.datetime(2160, 5, 18, 9, 19)], ['L3', datetime.datetime(2160, 5, 18, 9, 19)], ['L5', datetime.datetime(2160, 5, 18, 9, 19)], ['L3', datetime.datetime(2160, 5, 18, 9, 19)], ['L5', datetime.datetime(2160, 5, 18, 9, 19)], ['L5', datetime.datetime(2160, 5, 18, 9, 19)], ['L4', datetime.datetime(2160, 5, 18, 9, 19)], ['M20', datetime.datetime(2160, 5, 18, 10, 0)], ['M30', datetime.datetime(2160, 5, 18, 10, 0)], ['L5', datetime.datetime(2160, 5, 18, 10, 26)], ['L3', datetime.datetime(2160, 5, 18, 10, 26)], ['L1', datetime.datetime(2160, 5, 18, 10, 26)], ['L2', datetime.datetime(2160, 5, 18, 10, 26)], ['L6', datetime.datetime(2160, 5, 18, 10, 26)], ['L3', datetime.datetime(2160, 5, 18, 10, 26)], ['L3', datetime.datetime(2160, 5, 18, 10, 26)], ['L2', datetime.datetime(2160, 5, 18, 10, 26)], ['L3', datetime.datetime(2160, 5, 18, 10, 26)], ['L4', datetime.datetime(2160, 5, 18, 10, 26)], ['L5', datetime.datetime(2160, 5, 18, 10, 26)], ['L5', datetime.datetime(2160, 5, 18, 10, 26)], ['L3', datetime.datetime(2160, 5, 18, 10, 26)], ['M16', datetime.datetime(2160, 5, 18, 11, 0)], ['M7', datetime.datetime(2160, 5, 18, 11, 0)], ['M7', datetime.datetime(2160, 5, 18, 11, 0)], ['M18', datetime.datetime(2160, 5, 18, 11, 0)], ['M14', datetime.datetime(2160, 5, 18, 11, 0)], ['M9', datetime.datetime(2160, 5, 18, 11, 0)], ['M11', datetime.datetime(2160, 5, 18, 11, 0)], ['M12', datetime.datetime(2160, 5, 18, 11, 0)], ['M12', datetime.datetime(2160, 5, 18, 11, 0)], ['M3', datetime.datetime(2160, 5, 18, 11, 0)], ['M21', datetime.datetime(2160, 5, 18, 11, 0)], ['M16', datetime.datetime(2160, 5, 18, 11, 0)], ['M8', datetime.datetime(2160, 5, 18, 11, 0)], ['M4', datetime.datetime(2160, 5, 18, 11, 0)], ['M4', datetime.datetime(2160, 5, 18, 11, 0)], ['M10', datetime.datetime(2160, 5, 18, 11, 0)], ['M7', datetime.datetime(2160, 5, 18, 11, 0)], ['L2', datetime.datetime(2160, 5, 18, 11, 23)], ['L3', datetime.datetime(2160, 5, 18, 11, 23)], ['L1', datetime.datetime(2160, 5, 18, 11, 23)], ['L5', datetime.datetime(2160, 5, 18, 11, 23)], ['L3', datetime.datetime(2160, 5, 18, 11, 23)], ['L2', datetime.datetime(2160, 5, 18, 11, 23)], ['L3', datetime.datetime(2160, 5, 18, 11, 23)], ['L5', datetime.datetime(2160, 5, 18, 11, 23)], ['L3', datetime.datetime(2160, 5, 18, 11, 23)], ['L5', datetime.datetime(2160, 5, 18, 11, 23)], ['L6', datetime.datetime(2160, 5, 18, 11, 23)], ['L3', datetime.datetime(2160, 5, 18, 11, 23)], ['L4', datetime.datetime(2160, 5, 18, 11, 23)], ['L3', datetime.datetime(2160, 5, 18, 12, 20)], ['L6', datetime.datetime(2160, 5, 18, 12, 20)], ['L3', datetime.datetime(2160, 5, 18, 12, 20)], ['L3', datetime.datetime(2160, 5, 18, 12, 20)], ['L5', datetime.datetime(2160, 5, 18, 12, 20)], ['L2', datetime.datetime(2160, 5, 18, 12, 20)], ['L3', datetime.datetime(2160, 5, 18, 12, 20)], ['L4', datetime.datetime(2160, 5, 18, 12, 20)], ['L5', datetime.datetime(2160, 5, 18, 12, 20)], ['L1', datetime.datetime(2160, 5, 18, 12, 20)], ['L2', datetime.datetime(2160, 5, 18, 12, 20)], ['L3', datetime.datetime(2160, 5, 18, 12, 20)], ['L5', datetime.datetime(2160, 5, 18, 12, 20)], ['L2', datetime.datetime(2160, 5, 18, 13, 1)], ['L2', datetime.datetime(2160, 5, 18, 13, 1)], ['L2', datetime.datetime(2160, 5, 18, 13, 1)], ['L2', datetime.datetime(2160, 5, 18, 13, 1)], ['L2', datetime.datetime(2160, 5, 18, 13, 1)], ['L2', datetime.datetime(2160, 5, 18, 13, 1)], ['L2', datetime.datetime(2160, 5, 18, 13, 1)], ['L2', datetime.datetime(2160, 5, 18, 13, 1)], ['L2', datetime.datetime(2160, 5, 18, 13, 1)], ['L3', datetime.datetime(2160, 5, 18, 13, 2)], ['L5', datetime.datetime(2160, 5, 18, 13, 2)], ['L2', datetime.datetime(2160, 5, 18, 13, 2)], ['L3', datetime.datetime(2160, 5, 18, 13, 2)], ['L5', datetime.datetime(2160, 5, 18, 13, 2)], ['L6', datetime.datetime(2160, 5, 18, 13, 2)], ['L3', datetime.datetime(2160, 5, 18, 13, 2)], ['L5', datetime.datetime(2160, 5, 18, 13, 2)], ['L3', datetime.datetime(2160, 5, 18, 13, 2)], ['L3', datetime.datetime(2160, 5, 18, 13, 2)], ['L4', datetime.datetime(2160, 5, 18, 13, 2)], ['L1', datetime.datetime(2160, 5, 18, 13, 2)], ['L2', datetime.datetime(2160, 5, 18, 13, 2)], ['L5', datetime.datetime(2160, 5, 18, 14, 38)], ['L2', datetime.datetime(2160, 5, 18, 14, 38)], ['L5', datetime.datetime(2160, 5, 18, 14, 38)], ['L2', datetime.datetime(2160, 5, 18, 14, 38)], ['L7', datetime.datetime(2160, 5, 18, 14, 38)], ['L2', datetime.datetime(2160, 5, 18, 14, 38)], ['L2', datetime.datetime(2160, 5, 18, 14, 38)], ['L5', datetime.datetime(2160, 5, 18, 14, 38)], ['L8', datetime.datetime(2160, 5, 18, 14, 38)], ['L2', datetime.datetime(2160, 5, 18, 14, 38)], ['L2', datetime.datetime(2160, 5, 18, 14, 38)], ['L2', datetime.datetime(2160, 5, 18, 14, 38)], ['L2', datetime.datetime(2160, 5, 18, 14, 38)], ['L2', datetime.datetime(2160, 5, 18, 14, 38)], ['L5', datetime.datetime(2160, 5, 18, 14, 46)], ['L3', datetime.datetime(2160, 5, 18, 14, 46)], ['L3', datetime.datetime(2160, 5, 18, 14, 46)], ['L6', datetime.datetime(2160, 5, 18, 14, 46)], ['L3', datetime.datetime(2160, 5, 18, 14, 46)], ['L3', datetime.datetime(2160, 5, 18, 14, 46)], ['L4', datetime.datetime(2160, 5, 18, 14, 46)], ['L3', datetime.datetime(2160, 5, 18, 14, 46)], ['L5', datetime.datetime(2160, 5, 18, 14, 46)], ['L1', datetime.datetime(2160, 5, 18, 14, 46)], ['L3', datetime.datetime(2160, 5, 18, 16, 3)], ['L3', datetime.datetime(2160, 5, 18, 16, 3)], ['L3', datetime.datetime(2160, 5, 18, 16, 3)], ['L3', datetime.datetime(2160, 5, 18, 16, 3)], ['L3', datetime.datetime(2160, 5, 18, 16, 3)], ['L1', datetime.datetime(2160, 5, 18, 16, 3)], ['L6', datetime.datetime(2160, 5, 18, 16, 3)], ['L4', datetime.datetime(2160, 5, 18, 16, 3)], ['L5', datetime.datetime(2160, 5, 18, 17, 30)], ['L5', datetime.datetime(2160, 5, 18, 17, 30)], ['L2', datetime.datetime(2160, 5, 18, 17, 30)], ['L5', datetime.datetime(2160, 5, 18, 17, 30)], ['L3', datetime.datetime(2160, 5, 18, 17, 42)], ['L1', datetime.datetime(2160, 5, 18, 17, 42)], ['L3', datetime.datetime(2160, 5, 18, 17, 42)], ['L3', datetime.datetime(2160, 5, 18, 17, 42)], ['L3', datetime.datetime(2160, 5, 18, 17, 42)], ['L6', datetime.datetime(2160, 5, 18, 17, 42)], ['L4', datetime.datetime(2160, 5, 18, 17, 42)], ['L3', datetime.datetime(2160, 5, 18, 17, 42)], ['M23', datetime.datetime(2160, 5, 18, 18, 0)], ['M15', datetime.datetime(2160, 5, 18, 20, 0)], ['M5', datetime.datetime(2160, 5, 18, 20, 0)], ['M5', datetime.datetime(2160, 5, 18, 20, 0)], ['M15', datetime.datetime(2160, 5, 18, 21, 0)], ['M15', datetime.datetime(2160, 5, 18, 21, 0)], ['L1', datetime.datetime(2160, 5, 18, 21, 32)], ['L3', datetime.datetime(2160, 5, 18, 21, 32)], ['L5', datetime.datetime(2160, 5, 18, 21, 32)], ['L6', datetime.datetime(2160, 5, 18, 21, 32)], ['L3', datetime.datetime(2160, 5, 18, 21, 32)], ['L3', datetime.datetime(2160, 5, 18, 21, 32)], ['L3', datetime.datetime(2160, 5, 18, 21, 32)], ['L3', datetime.datetime(2160, 5, 18, 21, 32)], ['L4', datetime.datetime(2160, 5, 18, 21, 32)], ['M1', datetime.datetime(2160, 5, 18, 22, 0)], ['M4', datetime.datetime(2160, 5, 19, 0, 0)], ['M22', datetime.datetime(2160, 5, 19, 3, 0)], ['L2', datetime.datetime(2160, 5, 19, 4, 0)], ['L2', datetime.datetime(2160, 5, 19, 4, 0)], ['L8', datetime.datetime(2160, 5, 19, 4, 0)], ['L7', datetime.datetime(2160, 5, 19, 4, 0)], ['L2', datetime.datetime(2160, 5, 19, 4, 0)], ['L2', datetime.datetime(2160, 5, 19, 4, 0)], ['L2', datetime.datetime(2160, 5, 19, 4, 0)], ['L2', datetime.datetime(2160, 5, 19, 4, 0)], ['L5', datetime.datetime(2160, 5, 19, 4, 0)], ['L1', datetime.datetime(2160, 5, 19, 4, 0)], ['L5', datetime.datetime(2160, 5, 19, 4, 0)], ['L2', datetime.datetime(2160, 5, 19, 4, 0)], ['L5', datetime.datetime(2160, 5, 19, 4, 0)], ['L2', datetime.datetime(2160, 5, 19, 4, 0)], ['L2', datetime.datetime(2160, 5, 19, 4, 0)], ['L1', datetime.datetime(2160, 5, 19, 4, 10)], ['L4', datetime.datetime(2160, 5, 19, 4, 10)], ['L6', datetime.datetime(2160, 5, 19, 4, 10)], ['L5', datetime.datetime(2160, 5, 19, 4, 10)], ['L3', datetime.datetime(2160, 5, 19, 4, 10)], ['M2', datetime.datetime(2160, 5, 19, 6, 0)], ['M20', datetime.datetime(2160, 5, 19, 10, 0)], ['M30', datetime.datetime(2160, 5, 19, 10, 0)], ['M6', datetime.datetime(2160, 5, 19, 10, 0)], ['M6', datetime.datetime(2160, 5, 19, 10, 0)], ['M6', datetime.datetime(2160, 5, 19, 10, 0)], ['M3', datetime.datetime(2160, 5, 19, 17, 0)], ['M3', datetime.datetime(2160, 5, 19, 18, 0)], ['M11', datetime.datetime(2160, 5, 19, 18, 0)], ['M19', datetime.datetime(2160, 5, 19, 18, 0)], ['M2', datetime.datetime(2160, 5, 19, 18, 0)], ['M21', datetime.datetime(2160, 5, 19, 18, 0)], ['M4', datetime.datetime(2160, 5, 19, 18, 0)], ['M8', datetime.datetime(2160, 5, 19, 18, 0)], ['M2', datetime.datetime(2160, 5, 19, 20, 0)], ['M5', datetime.datetime(2160, 5, 19, 20, 0)], ['M1', datetime.datetime(2160, 5, 19, 20, 0)], ['M1', datetime.datetime(2160, 5, 19, 20, 0)], ['M3', datetime.datetime(2160, 5, 19, 22, 0)], ['L2', datetime.datetime(2160, 5, 20, 8, 20)], ['L2', datetime.datetime(2160, 5, 20, 8, 20)], ['L2', datetime.datetime(2160, 5, 20, 8, 20)], ['L8', datetime.datetime(2160, 5, 20, 8, 20)], ['L7', datetime.datetime(2160, 5, 20, 8, 20)], ['L5', datetime.datetime(2160, 5, 20, 8, 20)], ['L5', datetime.datetime(2160, 5, 20, 8, 20)], ['L2', datetime.datetime(2160, 5, 20, 8, 20)], ['L2', datetime.datetime(2160, 5, 20, 8, 20)], ['L2', datetime.datetime(2160, 5, 20, 8, 20)], ['L2', datetime.datetime(2160, 5, 20, 8, 20)], ['L2', datetime.datetime(2160, 5, 20, 8, 20)], ['L2', datetime.datetime(2160, 5, 20, 8, 20)], ['L1', datetime.datetime(2160, 5, 20, 8, 20)], ['L5', datetime.datetime(2160, 5, 20, 8, 20)], ['M3', datetime.datetime(2160, 5, 20, 19, 0)], ['M3', datetime.datetime(2160, 5, 20, 22, 0)], ['L5', datetime.datetime(2160, 5, 21, 8, 0)], ['L5', datetime.datetime(2160, 5, 21, 8, 0)], ['L5', datetime.datetime(2160, 5, 21, 8, 0)], ['L1', datetime.datetime(2160, 5, 21, 8, 0)], ['L8', datetime.datetime(2160, 5, 21, 8, 0)], ['L7', datetime.datetime(2160, 5, 21, 8, 0)], ['M1', datetime.datetime(2160, 5, 21, 8, 0)], ['M3', datetime.datetime(2160, 5, 21, 13, 0)], ['M1', datetime.datetime(2160, 5, 21, 14, 0)], ['M2', datetime.datetime(2160, 5, 21, 18, 0)], ['M3', datetime.datetime(2160, 5, 21, 22, 0)], ['M3', datetime.datetime(2160, 5, 22, 1, 0)], ['L2', datetime.datetime(2160, 5, 22, 6, 15)], ['L2', datetime.datetime(2160, 5, 22, 6, 15)], ['L2', datetime.datetime(2160, 5, 22, 6, 15)], ['L1', datetime.datetime(2160, 5, 22, 6, 15)], ['L5', datetime.datetime(2160, 5, 22, 6, 15)], ['L5', datetime.datetime(2160, 5, 22, 6, 15)], ['L2', datetime.datetime(2160, 5, 22, 6, 15)], ['L2', datetime.datetime(2160, 5, 22, 6, 15)], ['L2', datetime.datetime(2160, 5, 22, 6, 15)], ['L5', datetime.datetime(2160, 5, 22, 6, 15)], ['L2', datetime.datetime(2160, 5, 22, 6, 15)], ['L7', datetime.datetime(2160, 5, 22, 6, 15)], ['L8', datetime.datetime(2160, 5, 22, 6, 15)], ['L2', datetime.datetime(2160, 5, 22, 6, 15)], ['L2', datetime.datetime(2160, 5, 22, 6, 15)], ['M3', datetime.datetime(2160, 5, 22, 22, 0)], ['M31', datetime.datetime(2160, 5, 22, 23, 0)], ['L2', datetime.datetime(2160, 5, 23, 6, 5)], ['L2', datetime.datetime(2160, 5, 23, 6, 5)], ['L2', datetime.datetime(2160, 5, 23, 6, 5)], ['L2', datetime.datetime(2160, 5, 23, 6, 5)], ['L2', datetime.datetime(2160, 5, 23, 6, 5)], ['L5', datetime.datetime(2160, 5, 23, 6, 5)], ['L2', datetime.datetime(2160, 5, 23, 6, 5)], ['L2', datetime.datetime(2160, 5, 23, 6, 5)], ['L2', datetime.datetime(2160, 5, 23, 6, 5)], ['L2', datetime.datetime(2160, 5, 23, 6, 5)], ['L5', datetime.datetime(2160, 5, 23, 6, 5)], ['L5', datetime.datetime(2160, 5, 23, 6, 5)], ['D', datetime.datetime(2160, 5, 23, 13, 30)]]\n"
     ]
    }
   ],
   "source": [
    "for item in trace_raw.values():\n",
    "    for i in range(len(item)):\n",
    "        item[i][1] = datetime.strptime(item[i][1], '%Y-%m-%d''T''%H:%M:%S')\n",
    "    item.sort(key = lambda x:x[1])\n",
    "print(trace_raw['10002013'])"
   ],
   "metadata": {
    "collapsed": false,
    "pycharm": {
     "name": "#%%\n"
    }
   }
  },
  {
   "cell_type": "code",
   "execution_count": 10,
   "outputs": [
    {
     "name": "stdout",
     "output_type": "stream",
     "text": [
      "255\n"
     ]
    }
   ],
   "source": [
    "print(len(trace_raw['10002013']))"
   ],
   "metadata": {
    "collapsed": false,
    "pycharm": {
     "name": "#%%\n"
    }
   }
  },
  {
   "cell_type": "markdown",
   "source": [
    "For events with a timestamp that is too close, if they are of the same type of events(i.e. all of them are lab events), we will integrate them together to reduce the dimention of the data."
   ],
   "metadata": {
    "collapsed": false,
    "pycharm": {
     "name": "#%% md\n"
    }
   }
  },
  {
   "cell_type": "code",
   "execution_count": 85,
   "outputs": [
    {
     "name": "stdout",
     "output_type": "stream",
     "text": [
      "[['S1', datetime.datetime(2160, 5, 18, 1, 49, 32)], ['A', datetime.datetime(2160, 5, 18, 7, 45)], [], [], [], [], [], [], [], [], [], [], [], [], ['L*', datetime.datetime(2160, 5, 18, 9, 19)], [], ['M*', datetime.datetime(2160, 5, 18, 10, 0)], [], [], [], [], [], [], [], [], [], [], [], [], ['L*', datetime.datetime(2160, 5, 18, 10, 26)], [], [], [], [], [], [], [], [], [], [], [], [], [], [], [], [], ['M*', datetime.datetime(2160, 5, 18, 11, 0)], [], [], [], [], [], [], [], [], [], [], [], [], ['L*', datetime.datetime(2160, 5, 18, 11, 23)], [], [], [], [], [], [], [], [], [], [], [], [], ['L*', datetime.datetime(2160, 5, 18, 12, 20)], [], [], [], [], [], [], [], [], [], [], [], [], [], [], [], [], [], [], [], [], [], ['L*', datetime.datetime(2160, 5, 18, 13, 2)], [], [], [], [], [], [], [], [], [], [], [], [], [], [], [], [], [], [], [], [], [], [], [], ['L*', datetime.datetime(2160, 5, 18, 14, 46)], [], [], [], [], [], [], [], ['L*', datetime.datetime(2160, 5, 18, 16, 3)], [], [], [], ['L*', datetime.datetime(2160, 5, 18, 17, 30)], [], [], [], [], [], [], [], ['L*', datetime.datetime(2160, 5, 18, 17, 42)], ['M23', datetime.datetime(2160, 5, 18, 18, 0)], [], [], ['M*', datetime.datetime(2160, 5, 18, 20, 0)], [], ['M*', datetime.datetime(2160, 5, 18, 21, 0)], [], [], [], [], [], [], [], [], ['L*', datetime.datetime(2160, 5, 18, 21, 32)], ['M1', datetime.datetime(2160, 5, 18, 22, 0)], ['M4', datetime.datetime(2160, 5, 19, 0, 0)], ['M22', datetime.datetime(2160, 5, 19, 3, 0)], [], [], [], [], [], [], [], [], [], [], [], [], [], [], ['L*', datetime.datetime(2160, 5, 19, 4, 0)], [], [], [], [], ['L*', datetime.datetime(2160, 5, 19, 4, 10)], ['M2', datetime.datetime(2160, 5, 19, 6, 0)], [], [], [], [], ['M*', datetime.datetime(2160, 5, 19, 10, 0)], ['M3', datetime.datetime(2160, 5, 19, 17, 0)], [], [], [], [], [], [], ['M*', datetime.datetime(2160, 5, 19, 18, 0)], [], [], [], ['M*', datetime.datetime(2160, 5, 19, 20, 0)], ['M3', datetime.datetime(2160, 5, 19, 22, 0)], [], [], [], [], [], [], [], [], [], [], [], [], [], [], ['L*', datetime.datetime(2160, 5, 20, 8, 20)], ['M3', datetime.datetime(2160, 5, 20, 19, 0)], ['M3', datetime.datetime(2160, 5, 20, 22, 0)], [], [], [], [], [], ['L*', datetime.datetime(2160, 5, 21, 8, 0)], ['M1', datetime.datetime(2160, 5, 21, 8, 0)], ['M3', datetime.datetime(2160, 5, 21, 13, 0)], ['M1', datetime.datetime(2160, 5, 21, 14, 0)], ['M2', datetime.datetime(2160, 5, 21, 18, 0)], ['M3', datetime.datetime(2160, 5, 21, 22, 0)], ['M3', datetime.datetime(2160, 5, 22, 1, 0)], [], [], [], [], [], [], [], [], [], [], [], [], [], [], ['L*', datetime.datetime(2160, 5, 22, 6, 15)], ['M3', datetime.datetime(2160, 5, 22, 22, 0)], ['M31', datetime.datetime(2160, 5, 22, 23, 0)], [], [], [], [], [], [], [], [], [], [], [], ['L*', datetime.datetime(2160, 5, 23, 6, 5)], ['D', datetime.datetime(2160, 5, 23, 13, 30)]]\n"
     ]
    }
   ],
   "source": [
    "\"\"\"\n",
    "#integrate events\n",
    "for item in trace_raw.values():\n",
    "    #temp_holder = []\n",
    "    for i in range(1, len(item)):\n",
    "        min_diff = (item[i][1] - item[i - 1][1]).seconds / 60\n",
    "        if (min_diff) < 10 and (item[i][0][0] == item[i - 1][0][0]):\n",
    "            if len(item[i][0]) == 1: #refer to A & D\n",
    "                item[i][0] = item[i][0] + '*'\n",
    "            elif len(item[i][0]) == 2: #refer to L1, M2, etc.\n",
    "                item[i][0] = item[i][0][0] + '*'\n",
    "            else: #refer to length> 2 like L31\n",
    "                item[i][0] = item[i][0][0] + '*' #integrated events are labelled in a different way\n",
    "            item[i - 1] = []\n",
    "\n",
    "print(trace_raw['10002013'])\n",
    "\"\"\""
   ],
   "metadata": {
    "collapsed": false,
    "pycharm": {
     "name": "#%%\n"
    }
   }
  },
  {
   "cell_type": "code",
   "execution_count": 11,
   "outputs": [
    {
     "name": "stdout",
     "output_type": "stream",
     "text": [
      "[['S1', datetime.datetime(2160, 5, 18, 1, 49, 32)], ['A', datetime.datetime(2160, 5, 18, 7, 45)], [], [], [], [], [], [], [], [], [], [], [], [], ['LC11', datetime.datetime(2160, 5, 18, 9, 19)], [], ['MC12', datetime.datetime(2160, 5, 18, 10, 0)], [], [], [], [], [], [], [], [], [], [], [], [], ['LC24', datetime.datetime(2160, 5, 18, 10, 26)], [], [], [], [], [], [], [], [], [], [], [], [], [], [], [], [], ['MC40', datetime.datetime(2160, 5, 18, 11, 0)], [], [], [], [], [], [], [], [], [], [], [], [], ['LC52', datetime.datetime(2160, 5, 18, 11, 23)], [], [], [], [], [], [], [], [], [], [], [], [], ['LC64', datetime.datetime(2160, 5, 18, 12, 20)], [], [], [], [], [], [], [], [], [], [], [], [], [], [], [], [], [], [], [], [], [], ['LC85', datetime.datetime(2160, 5, 18, 13, 2)], [], [], [], [], [], [], [], [], [], [], [], [], [], [], [], [], [], [], [], [], [], [], [], ['LC108', datetime.datetime(2160, 5, 18, 14, 46)], [], [], [], [], [], [], [], ['LC115', datetime.datetime(2160, 5, 18, 16, 3)], [], [], [], ['LC118', datetime.datetime(2160, 5, 18, 17, 30)], [], [], [], [], [], [], [], ['LC125', datetime.datetime(2160, 5, 18, 17, 42)], ['M23', datetime.datetime(2160, 5, 18, 18, 0)], [], [], ['MC127', datetime.datetime(2160, 5, 18, 20, 0)], [], ['MC128', datetime.datetime(2160, 5, 18, 21, 0)], [], [], [], [], [], [], [], [], ['LC136', datetime.datetime(2160, 5, 18, 21, 32)], ['M1', datetime.datetime(2160, 5, 18, 22, 0)], ['M4', datetime.datetime(2160, 5, 19, 0, 0)], ['M22', datetime.datetime(2160, 5, 19, 3, 0)], [], [], [], [], [], [], [], [], [], [], [], [], [], [], ['LC150', datetime.datetime(2160, 5, 19, 4, 0)], [], [], [], [], ['LC154', datetime.datetime(2160, 5, 19, 4, 10)], ['M2', datetime.datetime(2160, 5, 19, 6, 0)], [], [], [], [], ['MC158', datetime.datetime(2160, 5, 19, 10, 0)], ['M3', datetime.datetime(2160, 5, 19, 17, 0)], [], [], [], [], [], [], ['MC164', datetime.datetime(2160, 5, 19, 18, 0)], [], [], [], ['MC167', datetime.datetime(2160, 5, 19, 20, 0)], ['M3', datetime.datetime(2160, 5, 19, 22, 0)], [], [], [], [], [], [], [], [], [], [], [], [], [], [], ['LC181', datetime.datetime(2160, 5, 20, 8, 20)], ['M3', datetime.datetime(2160, 5, 20, 19, 0)], ['M3', datetime.datetime(2160, 5, 20, 22, 0)], [], [], [], [], [], ['LC186', datetime.datetime(2160, 5, 21, 8, 0)], ['M1', datetime.datetime(2160, 5, 21, 8, 0)], ['M3', datetime.datetime(2160, 5, 21, 13, 0)], ['M1', datetime.datetime(2160, 5, 21, 14, 0)], ['M2', datetime.datetime(2160, 5, 21, 18, 0)], ['M3', datetime.datetime(2160, 5, 21, 22, 0)], ['M3', datetime.datetime(2160, 5, 22, 1, 0)], [], [], [], [], [], [], [], [], [], [], [], [], [], [], ['LC200', datetime.datetime(2160, 5, 22, 6, 15)], ['M3', datetime.datetime(2160, 5, 22, 22, 0)], ['M31', datetime.datetime(2160, 5, 22, 23, 0)], [], [], [], [], [], [], [], [], [], [], [], ['LC211', datetime.datetime(2160, 5, 23, 6, 5)], ['D', datetime.datetime(2160, 5, 23, 13, 30)]]\n"
     ]
    }
   ],
   "source": [
    "#integrate events\n",
    "naming_counter = 0 #the normal encoding is till 31\n",
    "for item in trace_raw.values():\n",
    "    naming_counter = 0\n",
    "    for i in range(1, len(item)):\n",
    "        min_diff = (item[i][1] - item[i - 1][1]).seconds / 60\n",
    "        if (min_diff) < 10 and (item[i][0][0] == item[i - 1][0][0]): #the two event happened within 10 min, then merge\n",
    "            item[i][0] = item[i][0][0] + 'C' + str(naming_counter) #integrated events are labelled in a different way\n",
    "            item[i - 1] = []\n",
    "            naming_counter += 1\n",
    "\n",
    "print(trace_raw['10002013'])"
   ],
   "metadata": {
    "collapsed": false,
    "pycharm": {
     "name": "#%%\n"
    }
   }
  },
  {
   "cell_type": "code",
   "execution_count": 12,
   "outputs": [
    {
     "name": "stdout",
     "output_type": "stream",
     "text": [
      "255\n"
     ]
    }
   ],
   "source": [
    "print(len(trace_raw['10002013']))"
   ],
   "metadata": {
    "collapsed": false,
    "pycharm": {
     "name": "#%%\n"
    }
   }
  },
  {
   "cell_type": "code",
   "execution_count": 13,
   "outputs": [
    {
     "name": "stdout",
     "output_type": "stream",
     "text": [
      "[['S1', datetime.datetime(2160, 5, 18, 1, 49, 32)], ['A', datetime.datetime(2160, 5, 18, 7, 45)], ['LC11', datetime.datetime(2160, 5, 18, 9, 19)], ['MC12', datetime.datetime(2160, 5, 18, 10, 0)], ['LC24', datetime.datetime(2160, 5, 18, 10, 26)], ['MC40', datetime.datetime(2160, 5, 18, 11, 0)], ['LC52', datetime.datetime(2160, 5, 18, 11, 23)], ['LC64', datetime.datetime(2160, 5, 18, 12, 20)], ['LC85', datetime.datetime(2160, 5, 18, 13, 2)], ['LC108', datetime.datetime(2160, 5, 18, 14, 46)], ['LC115', datetime.datetime(2160, 5, 18, 16, 3)], ['LC118', datetime.datetime(2160, 5, 18, 17, 30)], ['LC125', datetime.datetime(2160, 5, 18, 17, 42)], ['M23', datetime.datetime(2160, 5, 18, 18, 0)], ['MC127', datetime.datetime(2160, 5, 18, 20, 0)], ['MC128', datetime.datetime(2160, 5, 18, 21, 0)], ['LC136', datetime.datetime(2160, 5, 18, 21, 32)], ['M1', datetime.datetime(2160, 5, 18, 22, 0)], ['M4', datetime.datetime(2160, 5, 19, 0, 0)], ['M22', datetime.datetime(2160, 5, 19, 3, 0)], ['LC150', datetime.datetime(2160, 5, 19, 4, 0)], ['LC154', datetime.datetime(2160, 5, 19, 4, 10)], ['M2', datetime.datetime(2160, 5, 19, 6, 0)], ['MC158', datetime.datetime(2160, 5, 19, 10, 0)], ['M3', datetime.datetime(2160, 5, 19, 17, 0)], ['MC164', datetime.datetime(2160, 5, 19, 18, 0)], ['MC167', datetime.datetime(2160, 5, 19, 20, 0)], ['M3', datetime.datetime(2160, 5, 19, 22, 0)], ['LC181', datetime.datetime(2160, 5, 20, 8, 20)], ['M3', datetime.datetime(2160, 5, 20, 19, 0)], ['M3', datetime.datetime(2160, 5, 20, 22, 0)], ['LC186', datetime.datetime(2160, 5, 21, 8, 0)], ['M1', datetime.datetime(2160, 5, 21, 8, 0)], ['M3', datetime.datetime(2160, 5, 21, 13, 0)], ['M1', datetime.datetime(2160, 5, 21, 14, 0)], ['M2', datetime.datetime(2160, 5, 21, 18, 0)], ['M3', datetime.datetime(2160, 5, 21, 22, 0)], ['M3', datetime.datetime(2160, 5, 22, 1, 0)], ['LC200', datetime.datetime(2160, 5, 22, 6, 15)], ['M3', datetime.datetime(2160, 5, 22, 22, 0)], ['M31', datetime.datetime(2160, 5, 22, 23, 0)], ['LC211', datetime.datetime(2160, 5, 23, 6, 5)], ['D', datetime.datetime(2160, 5, 23, 13, 30)]]\n"
     ]
    }
   ],
   "source": [
    "for item in trace_raw.values():\n",
    "    for event in item[:]:\n",
    "        if len(event) == 0:\n",
    "            item.remove(event)\n",
    "\n",
    "print(trace_raw['10002013'])"
   ],
   "metadata": {
    "collapsed": false,
    "pycharm": {
     "name": "#%%\n"
    }
   }
  },
  {
   "cell_type": "code",
   "execution_count": 14,
   "outputs": [
    {
     "name": "stdout",
     "output_type": "stream",
     "text": [
      "43\n"
     ]
    }
   ],
   "source": [
    "print(len(trace_raw['10002013']))"
   ],
   "metadata": {
    "collapsed": false,
    "pycharm": {
     "name": "#%%\n"
    }
   }
  },
  {
   "cell_type": "markdown",
   "source": [
    "After sorting and integrating, separate the timestamp and generate the true trace matrix. Here we will prepare the trace matrix into two forms, the first is a dictionary with the key as the patient ID and the value as the trace of that patient. The second is a 2D list with each list inside the big list is a trace for one patient."
   ],
   "metadata": {
    "collapsed": false,
    "pycharm": {
     "name": "#%% md\n"
    }
   }
  },
  {
   "cell_type": "code",
   "execution_count": 15,
   "outputs": [],
   "source": [
    "trace_matrix_dict = dict()\n",
    "trace_matirx = []\n",
    "timestamp_matrix = []\n",
    "\n",
    "for key, value in trace_raw.items():\n",
    "    trace_matrix_dict[key] = []\n",
    "    temp_matrix = []\n",
    "    temp_time = []\n",
    "    for item in value:\n",
    "        trace_matrix_dict[key].append(item[0])\n",
    "        temp_matrix.append(item[0])\n",
    "        temp_time.append(item[1])\n",
    "    trace_matirx.append(temp_matrix)\n",
    "    timestamp_matrix.append(temp_time)\n",
    "\n"
   ],
   "metadata": {
    "collapsed": false,
    "pycharm": {
     "name": "#%%\n"
    }
   }
  },
  {
   "cell_type": "code",
   "execution_count": 16,
   "outputs": [
    {
     "name": "stdout",
     "output_type": "stream",
     "text": [
      "['S1', 'A', 'LC11', 'MC12', 'LC24', 'MC40', 'LC52', 'LC64', 'LC85', 'LC108', 'LC115', 'LC118', 'LC125', 'M23', 'MC127', 'MC128', 'LC136', 'M1', 'M4', 'M22', 'LC150', 'LC154', 'M2', 'MC158', 'M3', 'MC164', 'MC167', 'M3', 'LC181', 'M3', 'M3', 'LC186', 'M1', 'M3', 'M1', 'M2', 'M3', 'M3', 'LC200', 'M3', 'M31', 'LC211', 'D']\n"
     ]
    }
   ],
   "source": [
    "print(trace_matrix_dict['10002013'])"
   ],
   "metadata": {
    "collapsed": false,
    "pycharm": {
     "name": "#%%\n"
    }
   }
  },
  {
   "cell_type": "code",
   "execution_count": 17,
   "outputs": [
    {
     "name": "stdout",
     "output_type": "stream",
     "text": [
      "[['S1', 'A', 'LC11', 'MC12', 'LC24', 'MC40', 'LC52', 'LC64', 'LC85', 'LC108', 'LC115', 'LC118', 'LC125', 'M23', 'MC127', 'MC128', 'LC136', 'M1', 'M4', 'M22', 'LC150', 'LC154', 'M2', 'MC158', 'M3', 'MC164', 'MC167', 'M3', 'LC181', 'M3', 'M3', 'LC186', 'M1', 'M3', 'M1', 'M2', 'M3', 'M3', 'LC200', 'M3', 'M31', 'LC211', 'D'], ['S1', 'LC11', 'A', 'LC20', 'LC29', 'LC38', 'MC56', 'LC77', 'LC88', 'LC98', 'LC104', 'MC105', 'LC113', 'LC119', 'M20', 'M15', 'LC133', 'LC136', 'MC139', 'M15', 'LC142', 'LC143', 'MC146', 'MC151', 'LC165', 'MC166', 'LC168', 'M29', 'LC179', 'M2', 'M7', 'LC184', 'D'], ['S1', 'A', 'LC11', 'LC20', 'MC21', 'LC30', 'MC43', 'LC64', 'MC65', 'LC78', 'LC87', 'LC95', 'MC97', 'LC104', 'LC107', 'M25', 'MC110', 'M20', 'LC125', 'LC128', 'MC129', 'MC132', 'MC139', 'MC140', 'LC154', 'M2', 'LC156', 'MC158', 'M1', 'LC173', 'M1', 'LC186', 'D'], ['S1', 'A', 'LC11', 'LC20', 'LC29', 'MC43', 'L2', 'LC55', 'LC68', 'LC77', 'LC85', 'M22', 'LC93', 'LC94', 'MC95', 'LC98', 'M20', 'LC99', 'LC106', 'LC120', 'LC126', 'LC131', 'MC132', 'LC140', 'MC141', 'LC153', 'LC155', 'LC160', 'MC161', 'MC163', 'M11', 'LC178', 'MC181', 'MC186', 'MC187', 'LC189', 'LC203', 'M1', 'MC204', 'LC217', 'M2', 'LC230', 'D'], ['S1', 'A', 'LC11', 'LC20', 'MC34', 'LC43', 'LC64', 'LC85', 'LC91', 'LC97', 'MC99', 'LC105', 'MC106', 'LC107', 'LC121', 'M22', 'MC122', 'MC123', 'M22', 'M9', 'LC127', 'LC142', 'M29', 'L2', 'MC145', 'M14', 'MC152', 'MC155', 'LC169', 'M2', 'MC170', 'L5', 'LC179', 'M17', 'M27', 'L5', 'M2', 'LC188', 'D']]\n"
     ]
    }
   ],
   "source": [
    "print(trace_matirx[:5])"
   ],
   "metadata": {
    "collapsed": false,
    "pycharm": {
     "name": "#%%\n"
    }
   }
  },
  {
   "cell_type": "code",
   "execution_count": 18,
   "outputs": [
    {
     "name": "stdout",
     "output_type": "stream",
     "text": [
      "[[datetime.datetime(2160, 5, 18, 1, 49, 32), datetime.datetime(2160, 5, 18, 7, 45), datetime.datetime(2160, 5, 18, 9, 19), datetime.datetime(2160, 5, 18, 10, 0), datetime.datetime(2160, 5, 18, 10, 26), datetime.datetime(2160, 5, 18, 11, 0), datetime.datetime(2160, 5, 18, 11, 23), datetime.datetime(2160, 5, 18, 12, 20), datetime.datetime(2160, 5, 18, 13, 2), datetime.datetime(2160, 5, 18, 14, 46), datetime.datetime(2160, 5, 18, 16, 3), datetime.datetime(2160, 5, 18, 17, 30), datetime.datetime(2160, 5, 18, 17, 42), datetime.datetime(2160, 5, 18, 18, 0), datetime.datetime(2160, 5, 18, 20, 0), datetime.datetime(2160, 5, 18, 21, 0), datetime.datetime(2160, 5, 18, 21, 32), datetime.datetime(2160, 5, 18, 22, 0), datetime.datetime(2160, 5, 19, 0, 0), datetime.datetime(2160, 5, 19, 3, 0), datetime.datetime(2160, 5, 19, 4, 0), datetime.datetime(2160, 5, 19, 4, 10), datetime.datetime(2160, 5, 19, 6, 0), datetime.datetime(2160, 5, 19, 10, 0), datetime.datetime(2160, 5, 19, 17, 0), datetime.datetime(2160, 5, 19, 18, 0), datetime.datetime(2160, 5, 19, 20, 0), datetime.datetime(2160, 5, 19, 22, 0), datetime.datetime(2160, 5, 20, 8, 20), datetime.datetime(2160, 5, 20, 19, 0), datetime.datetime(2160, 5, 20, 22, 0), datetime.datetime(2160, 5, 21, 8, 0), datetime.datetime(2160, 5, 21, 8, 0), datetime.datetime(2160, 5, 21, 13, 0), datetime.datetime(2160, 5, 21, 14, 0), datetime.datetime(2160, 5, 21, 18, 0), datetime.datetime(2160, 5, 21, 22, 0), datetime.datetime(2160, 5, 22, 1, 0), datetime.datetime(2160, 5, 22, 6, 15), datetime.datetime(2160, 5, 22, 22, 0), datetime.datetime(2160, 5, 22, 23, 0), datetime.datetime(2160, 5, 23, 6, 5), datetime.datetime(2160, 5, 23, 13, 30)], [datetime.datetime(2136, 3, 24, 3, 2, 17), datetime.datetime(2136, 3, 24, 11, 26), datetime.datetime(2136, 3, 24, 12, 30), datetime.datetime(2136, 3, 24, 13, 45), datetime.datetime(2136, 3, 24, 14, 23), datetime.datetime(2136, 3, 24, 14, 57), datetime.datetime(2136, 3, 24, 15, 0), datetime.datetime(2136, 3, 24, 15, 26), datetime.datetime(2136, 3, 24, 17, 0), datetime.datetime(2136, 3, 24, 17, 25), datetime.datetime(2136, 3, 24, 18, 53), datetime.datetime(2136, 3, 24, 20, 0), datetime.datetime(2136, 3, 24, 21, 10), datetime.datetime(2136, 3, 24, 21, 51), datetime.datetime(2136, 3, 24, 22, 0), datetime.datetime(2136, 3, 24, 23, 0), datetime.datetime(2136, 3, 25, 3, 6), datetime.datetime(2136, 3, 25, 3, 30), datetime.datetime(2136, 3, 25, 10, 0), datetime.datetime(2136, 3, 25, 14, 0), datetime.datetime(2136, 3, 25, 15, 24), datetime.datetime(2136, 3, 25, 19, 34), datetime.datetime(2136, 3, 25, 20, 0), datetime.datetime(2136, 3, 25, 22, 0), datetime.datetime(2136, 3, 26, 6, 30), datetime.datetime(2136, 3, 26, 13, 0), datetime.datetime(2136, 3, 26, 15, 29), datetime.datetime(2136, 3, 26, 19, 0), datetime.datetime(2136, 3, 27, 5, 12), datetime.datetime(2136, 3, 27, 14, 0), datetime.datetime(2136, 3, 27, 15, 0), datetime.datetime(2136, 3, 28, 6, 23), datetime.datetime(2136, 3, 29, 13, 40)], [datetime.datetime(2146, 12, 15, 4, 53, 55), datetime.datetime(2146, 12, 15, 7, 15), datetime.datetime(2146, 12, 15, 7, 52), datetime.datetime(2146, 12, 15, 9, 49), datetime.datetime(2146, 12, 15, 10, 0), datetime.datetime(2146, 12, 15, 10, 35), datetime.datetime(2146, 12, 15, 11, 0), datetime.datetime(2146, 12, 15, 11, 24), datetime.datetime(2146, 12, 15, 12, 0), datetime.datetime(2146, 12, 15, 12, 35), datetime.datetime(2146, 12, 15, 12, 52), datetime.datetime(2146, 12, 15, 13, 55), datetime.datetime(2146, 12, 15, 15, 0), datetime.datetime(2146, 12, 15, 15, 9), datetime.datetime(2146, 12, 15, 17, 22), datetime.datetime(2146, 12, 15, 19, 0), datetime.datetime(2146, 12, 15, 20, 0), datetime.datetime(2146, 12, 15, 22, 0), datetime.datetime(2146, 12, 16, 2, 21), datetime.datetime(2146, 12, 16, 2, 43), datetime.datetime(2146, 12, 16, 8, 0), datetime.datetime(2146, 12, 16, 10, 0), datetime.datetime(2146, 12, 16, 12, 0), datetime.datetime(2146, 12, 16, 20, 0), datetime.datetime(2146, 12, 17, 6, 5), datetime.datetime(2146, 12, 17, 10, 0), datetime.datetime(2146, 12, 17, 19, 0), datetime.datetime(2146, 12, 17, 20, 0), datetime.datetime(2146, 12, 18, 8, 0), datetime.datetime(2146, 12, 18, 8, 55), datetime.datetime(2146, 12, 18, 20, 0), datetime.datetime(2146, 12, 19, 5, 55), datetime.datetime(2146, 12, 19, 13, 37)], [datetime.datetime(2113, 8, 25, 3, 17, 43), datetime.datetime(2113, 8, 25, 7, 15), datetime.datetime(2113, 8, 25, 7, 29), datetime.datetime(2113, 8, 25, 9, 10), datetime.datetime(2113, 8, 25, 10, 10), datetime.datetime(2113, 8, 25, 11, 0), datetime.datetime(2113, 8, 25, 11, 20), datetime.datetime(2113, 8, 25, 11, 34), datetime.datetime(2113, 8, 25, 12, 45), datetime.datetime(2113, 8, 25, 12, 55), datetime.datetime(2113, 8, 25, 14, 48), datetime.datetime(2113, 8, 25, 15, 0), datetime.datetime(2113, 8, 25, 16, 45), datetime.datetime(2113, 8, 25, 18, 58), datetime.datetime(2113, 8, 25, 20, 0), datetime.datetime(2113, 8, 25, 21, 1), datetime.datetime(2113, 8, 25, 22, 0), datetime.datetime(2113, 8, 25, 22, 37), datetime.datetime(2113, 8, 25, 22, 55), datetime.datetime(2113, 8, 26, 3, 15), datetime.datetime(2113, 8, 26, 3, 37), datetime.datetime(2113, 8, 26, 6, 56), datetime.datetime(2113, 8, 26, 8, 0), datetime.datetime(2113, 8, 26, 8, 59), datetime.datetime(2113, 8, 26, 10, 0), datetime.datetime(2113, 8, 26, 12, 5), datetime.datetime(2113, 8, 26, 12, 19), datetime.datetime(2113, 8, 26, 13, 40), datetime.datetime(2113, 8, 26, 14, 0), datetime.datetime(2113, 8, 26, 20, 0), datetime.datetime(2113, 8, 26, 22, 0), datetime.datetime(2113, 8, 27, 2, 29), datetime.datetime(2113, 8, 27, 10, 0), datetime.datetime(2113, 8, 27, 17, 0), datetime.datetime(2113, 8, 27, 20, 0), datetime.datetime(2113, 8, 27, 23, 52), datetime.datetime(2113, 8, 28, 4, 38), datetime.datetime(2113, 8, 28, 14, 0), datetime.datetime(2113, 8, 28, 20, 0), datetime.datetime(2113, 8, 29, 5, 14), datetime.datetime(2113, 8, 29, 20, 0), datetime.datetime(2113, 8, 30, 5, 30), datetime.datetime(2113, 8, 30, 14, 15)], [datetime.datetime(2118, 1, 16, 6, 35, 16), datetime.datetime(2118, 1, 16, 7, 15), datetime.datetime(2118, 1, 16, 12, 0), datetime.datetime(2118, 1, 16, 14, 8), datetime.datetime(2118, 1, 16, 15, 0), datetime.datetime(2118, 1, 16, 15, 3), datetime.datetime(2118, 1, 16, 15, 33), datetime.datetime(2118, 1, 16, 17, 15), datetime.datetime(2118, 1, 16, 19, 1), datetime.datetime(2118, 1, 16, 19, 30), datetime.datetime(2118, 1, 16, 20, 0), datetime.datetime(2118, 1, 16, 20, 15), datetime.datetime(2118, 1, 16, 21, 0), datetime.datetime(2118, 1, 16, 22, 32), datetime.datetime(2118, 1, 17, 2, 8), datetime.datetime(2118, 1, 17, 5, 0), datetime.datetime(2118, 1, 17, 10, 0), datetime.datetime(2118, 1, 17, 13, 0), datetime.datetime(2118, 1, 17, 16, 0), datetime.datetime(2118, 1, 17, 21, 0), datetime.datetime(2118, 1, 17, 21, 20), datetime.datetime(2118, 1, 18, 3, 14), datetime.datetime(2118, 1, 18, 8, 0), datetime.datetime(2118, 1, 18, 9, 37), datetime.datetime(2118, 1, 18, 10, 0), datetime.datetime(2118, 1, 18, 12, 0), datetime.datetime(2118, 1, 18, 18, 0), datetime.datetime(2118, 1, 18, 20, 0), datetime.datetime(2118, 1, 19, 5, 55), datetime.datetime(2118, 1, 19, 10, 0), datetime.datetime(2118, 1, 19, 16, 0), datetime.datetime(2118, 1, 20, 5, 17), datetime.datetime(2118, 1, 20, 13, 0), datetime.datetime(2118, 1, 20, 16, 0), datetime.datetime(2118, 1, 20, 18, 0), datetime.datetime(2118, 1, 20, 19, 30), datetime.datetime(2118, 1, 20, 20, 0), datetime.datetime(2118, 1, 21, 5, 40), datetime.datetime(2118, 1, 21, 13, 45)]]\n"
     ]
    }
   ],
   "source": [
    "print(timestamp_matrix[:5])"
   ],
   "metadata": {
    "collapsed": false,
    "pycharm": {
     "name": "#%%\n"
    }
   }
  },
  {
   "cell_type": "code",
   "execution_count": 50,
   "outputs": [
    {
     "name": "stdout",
     "output_type": "stream",
     "text": [
      "[datetime.datetime(2160, 5, 18, 1, 49, 32), datetime.datetime(2160, 5, 18, 7, 45), datetime.datetime(2160, 5, 18, 9, 19), datetime.datetime(2160, 5, 18, 10, 0), datetime.datetime(2160, 5, 18, 10, 26), datetime.datetime(2160, 5, 18, 11, 0), datetime.datetime(2160, 5, 18, 11, 23), datetime.datetime(2160, 5, 18, 12, 20), datetime.datetime(2160, 5, 18, 13, 2), datetime.datetime(2160, 5, 18, 14, 46), datetime.datetime(2160, 5, 18, 16, 3), datetime.datetime(2160, 5, 18, 17, 30), datetime.datetime(2160, 5, 18, 17, 42), datetime.datetime(2160, 5, 18, 18, 0), datetime.datetime(2160, 5, 18, 20, 0), datetime.datetime(2160, 5, 18, 21, 0), datetime.datetime(2160, 5, 18, 21, 32), datetime.datetime(2160, 5, 18, 22, 0), datetime.datetime(2160, 5, 19, 0, 0), datetime.datetime(2160, 5, 19, 3, 0), datetime.datetime(2160, 5, 19, 4, 0), datetime.datetime(2160, 5, 19, 4, 10), datetime.datetime(2160, 5, 19, 6, 0), datetime.datetime(2160, 5, 19, 10, 0), datetime.datetime(2160, 5, 19, 17, 0), datetime.datetime(2160, 5, 19, 18, 0), datetime.datetime(2160, 5, 19, 20, 0), datetime.datetime(2160, 5, 19, 22, 0), datetime.datetime(2160, 5, 20, 8, 20), datetime.datetime(2160, 5, 20, 19, 0), datetime.datetime(2160, 5, 20, 22, 0), datetime.datetime(2160, 5, 21, 8, 0), datetime.datetime(2160, 5, 21, 8, 0), datetime.datetime(2160, 5, 21, 13, 0), datetime.datetime(2160, 5, 21, 14, 0), datetime.datetime(2160, 5, 21, 18, 0), datetime.datetime(2160, 5, 21, 22, 0), datetime.datetime(2160, 5, 22, 1, 0), datetime.datetime(2160, 5, 22, 6, 15), datetime.datetime(2160, 5, 22, 22, 0), datetime.datetime(2160, 5, 22, 23, 0), datetime.datetime(2160, 5, 23, 6, 5), datetime.datetime(2160, 5, 23, 13, 30)]\n"
     ]
    }
   ],
   "source": [
    "print(timestamp_matrix[0])"
   ],
   "metadata": {
    "collapsed": false,
    "pycharm": {
     "name": "#%%\n"
    }
   }
  },
  {
   "cell_type": "code",
   "execution_count": 19,
   "outputs": [],
   "source": [
    "for trace in trace_matirx:\n",
    "    for event in trace:\n",
    "        if len(event) > 2:\n",
    "            if event[2] == 'M' or event[2] == 'L':\n",
    "                print('error')\n",
    "#check if the conversion is correct"
   ],
   "metadata": {
    "collapsed": false,
    "pycharm": {
     "name": "#%%\n"
    }
   }
  },
  {
   "cell_type": "markdown",
   "source": [
    "write the trace matrix to the file for further process"
   ],
   "metadata": {
    "collapsed": false,
    "pycharm": {
     "name": "#%% md\n"
    }
   }
  },
  {
   "cell_type": "code",
   "execution_count": 61,
   "outputs": [],
   "source": [
    "#original version without integration, NOT IN USE\n",
    "with open('trace_matrix.txt', 'w') as file2:\n",
    "    for line in trace_matirx:\n",
    "        for event in line:\n",
    "            file2.write(event)\n",
    "            if event != line[-1]:\n",
    "                file2.write(', ')\n",
    "        file2.write('\\n')\n",
    "file2.close()"
   ],
   "metadata": {
    "collapsed": false,
    "pycharm": {
     "name": "#%%\n"
    }
   }
  },
  {
   "cell_type": "code",
   "execution_count": 163,
   "outputs": [],
   "source": [
    "with open('trace_matrix_integreated.txt', 'w') as file3:\n",
    "    for line in trace_matirx:\n",
    "        for event in line:\n",
    "            file3.write(event)\n",
    "            if event != line[-1]:\n",
    "                file3.write(', ')\n",
    "        file3.write('\\n')\n",
    "file3.close()"
   ],
   "metadata": {
    "collapsed": false,
    "pycharm": {
     "name": "#%%\n"
    }
   }
  },
  {
   "cell_type": "markdown",
   "source": [
    "For the time variation, we can calculate the overall time between traces"
   ],
   "metadata": {
    "collapsed": false,
    "pycharm": {
     "name": "#%% md\n"
    }
   }
  },
  {
   "cell_type": "code",
   "execution_count": null,
   "outputs": [],
   "source": [
    "time_diff_of_traces = []\n",
    "\n",
    "for trace in timestamp_matrix:\n",
    "    time_diff = (trace[-1] - trace[1]).seconds / 3600\n",
    "    time_diff_of_traces.append(time_diff)"
   ],
   "metadata": {
    "collapsed": false,
    "pycharm": {
     "name": "#%%\n"
    }
   }
  },
  {
   "cell_type": "code",
   "execution_count": 45,
   "outputs": [
    {
     "name": "stdout",
     "output_type": "stream",
     "text": [
      "[5.75, 2.2333333333333334, 6.366666666666666, 7.0, 6.5]\n",
      "892\n"
     ]
    }
   ],
   "source": [
    "print(time_diff_of_traces[:5])\n",
    "print(len(time_diff_of_traces))"
   ],
   "metadata": {
    "collapsed": false,
    "pycharm": {
     "name": "#%%\n"
    }
   }
  },
  {
   "cell_type": "code",
   "execution_count": 51,
   "outputs": [],
   "source": [
    "time_diff_of_traces_days = []\n",
    "\n",
    "for trace in timestamp_matrix:\n",
    "    time_diff = (trace[-1] - trace[1]).days\n",
    "    time_diff_of_traces_days.append(time_diff)"
   ],
   "metadata": {
    "collapsed": false,
    "pycharm": {
     "name": "#%%\n"
    }
   }
  },
  {
   "cell_type": "code",
   "execution_count": 52,
   "outputs": [
    {
     "name": "stdout",
     "output_type": "stream",
     "text": [
      "[5, 5, 4, 5, 5]\n",
      "892\n"
     ]
    }
   ],
   "source": [
    "print(time_diff_of_traces_days[:5])\n",
    "print(len(time_diff_of_traces_days))"
   ],
   "metadata": {
    "collapsed": false,
    "pycharm": {
     "name": "#%%\n"
    }
   }
  },
  {
   "cell_type": "markdown",
   "source": [
    "Then we try to visalize the time variance"
   ],
   "metadata": {
    "collapsed": false,
    "pycharm": {
     "name": "#%% md\n"
    }
   }
  },
  {
   "cell_type": "code",
   "execution_count": 46,
   "outputs": [],
   "source": [
    "import matplotlib.pyplot as plt"
   ],
   "metadata": {
    "collapsed": false,
    "pycharm": {
     "name": "#%%\n"
    }
   }
  },
  {
   "cell_type": "code",
   "execution_count": 47,
   "outputs": [
    {
     "data": {
      "text/plain": "<Figure size 432x288 with 1 Axes>",
      "image/png": "[encoded data removed]"
     },
     "metadata": {
      "needs_background": "light"
     },
     "output_type": "display_data"
    }
   ],
   "source": [
    "plt.plot(time_diff_of_traces, '*')\n",
    "plt.show()"
   ],
   "metadata": {
    "collapsed": false,
    "pycharm": {
     "name": "#%%\n"
    }
   }
  },
  {
   "cell_type": "code",
   "execution_count": 62,
   "outputs": [
    {
     "data": {
      "text/plain": "<Figure size 432x288 with 1 Axes>",
      "image/png": "[encoded data removed]"
     },
     "metadata": {
      "needs_background": "light"
     },
     "output_type": "display_data"
    }
   ],
   "source": [
    "plt.plot(time_diff_of_traces_days, '*')\n",
    "plt.ylim(0,16)\n",
    "plt.show()"
   ],
   "metadata": {
    "collapsed": false,
    "pycharm": {
     "name": "#%%\n"
    }
   }
  },
  {
   "cell_type": "code",
   "execution_count": null,
   "outputs": [],
   "source": [],
   "metadata": {
    "collapsed": false,
    "pycharm": {
     "name": "#%%\n"
    }
   }
  }
 ],
 "metadata": {
  "kernelspec": {
   "display_name": "Python 3",
   "language": "python",
   "name": "python3"
  },
  "language_info": {
   "codemirror_mode": {
    "name": "ipython",
    "version": 2
   },
   "file_extension": ".py",
   "mimetype": "text/x-python",
   "name": "python",
   "nbconvert_exporter": "python",
   "pygments_lexer": "ipython2",
   "version": "2.7.6"
  }
 },
 "nbformat": 4,
 "nbformat_minor": 0
}