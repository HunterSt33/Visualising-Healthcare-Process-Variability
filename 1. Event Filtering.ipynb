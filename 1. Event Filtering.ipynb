{
 "cells": [
  {
   "cell_type": "markdown",
   "metadata": {
    "collapsed": true,
    "pycharm": {
     "name": "#%% md\n"
    }
   },
   "source": [
    "# Event Filtering Final"
   ]
  },
  {
   "cell_type": "markdown",
   "source": [
    "In this file, we have finalise the event filtering process from the full event log. The process is done by clinical process and the most frequent 10% of the events, typically for lab events, which contains all the pathologies done, as well as the drug/emar events, which contains all the medications involved in the process."
   ],
   "metadata": {
    "collapsed": false,
    "pycharm": {
     "name": "#%% md\n"
    }
   }
  },
  {
   "cell_type": "markdown",
   "source": [
    "Before we started to filter the event log, we will first create a dictionary that contains all the filtered events. Therefore we can use it later as the reference."
   ],
   "metadata": {
    "collapsed": false,
    "pycharm": {
     "name": "#%% md\n"
    }
   }
  },
  {
   "cell_type": "code",
   "execution_count": 1,
   "outputs": [],
   "source": [
    "import csv"
   ],
   "metadata": {
    "collapsed": false,
    "pycharm": {
     "name": "#%%\n"
    }
   }
  },
  {
   "cell_type": "code",
   "execution_count": 2,
   "outputs": [
    {
     "name": "stdout",
     "output_type": "stream",
     "text": [
      "[['LabEvents', 'LabCount'], ['Glucose', '13119'], ['CBC', '44626'], ['ABG', '10502'], ['Specimen Type', '10307'], ['ABG', '8878'], ['ABG', '8877'], ['ABG', '8876'], ['ABG', '8876'], ['Electrolytes', '14374'], ['Electrolytes', '6881'], ['Electrolytes', '6613'], ['CBC', '6577'], ['Calcium', '6520'], ['CBC', '6472'], ['CBC', '6433'], ['Creatinine', '6135'], ['Urea Nitrogen', '6126'], ['ABG', '5554']]\n"
     ]
    }
   ],
   "source": [
    "with open('preliminary_lab_events_Edited.csv', newline='') as file:\n",
    "    reader = csv.reader(file)\n",
    "    lab_data = list(reader)\n",
    "file.close()\n",
    "print(lab_data)"
   ],
   "metadata": {
    "collapsed": false,
    "pycharm": {
     "name": "#%%\n"
    }
   }
  },
  {
   "cell_type": "code",
   "execution_count": 3,
   "outputs": [
    {
     "name": "stdout",
     "output_type": "stream",
     "text": [
      "[['\\ufeffDrugEvent', 'DrugCount'], ['Metoprolol', '4652'], ['Diuretic', '3424'], ['Insulin', '4202'], ['Acetaminophen', '3090'], ['Ranitidine', '2316'], ['Aspirin', '2770'], ['Opioid', '1786'], ['Dextrose 50%', '1773'], ['Magnesium Sulfate', '1536'], ['Propofol', '1526'], ['CefazoLIN', '1473'], ['Nitroglycerin', '1374'], ['Amiodarone', '1258'], ['Metoclopramide', '1188'], ['Ketorolac', '1120'], ['Opioid', '1026'], ['PHENYLEPHrine', '1777'], ['Warfarin', '973'], ['Calcium Gluconate', '967'], ['Glucagon', '875'], ['Lipid Loweding', '871'], ['Oxycodone-Acetaminophen', '1410'], ['Acetaminophen', '685'], ['Lipid Loweding', '549'], ['Albumin', '508'], ['Opioid', '468'], ['HydrALAzine', '422'], ['Vancomycin', '404'], ['Ondansetron', '400'], ['Lisinopril', '383'], ['Opioid', '381'], ['Albuterol', '364'], ['Opioid', '331'], ['MetFORMIN (Glucophage)', '308'], ['Lorazepam', '283'], ['Clopidogrel', '282'], ['Pantoprazole', '281']]\n"
     ]
    }
   ],
   "source": [
    "with open('preliminary_drug_events_Edited.csv', newline='') as file1:\n",
    "    reader1 = csv.reader(file1)\n",
    "    drug_data = list(reader1)\n",
    "file1.close()\n",
    "print(drug_data)"
   ],
   "metadata": {
    "collapsed": false,
    "pycharm": {
     "name": "#%%\n"
    }
   }
  },
  {
   "cell_type": "markdown",
   "source": [
    "There is a header in the first element of the list, and they need to be removed for further processing."
   ],
   "metadata": {
    "collapsed": false,
    "pycharm": {
     "name": "#%% md\n"
    }
   }
  },
  {
   "cell_type": "code",
   "execution_count": 4,
   "outputs": [
    {
     "name": "stdout",
     "output_type": "stream",
     "text": [
      "[['Glucose', '13119'], ['CBC', '44626'], ['ABG', '10502'], ['Specimen Type', '10307'], ['ABG', '8878'], ['ABG', '8877'], ['ABG', '8876'], ['ABG', '8876'], ['Electrolytes', '14374'], ['Electrolytes', '6881'], ['Electrolytes', '6613'], ['CBC', '6577'], ['Calcium', '6520'], ['CBC', '6472'], ['CBC', '6433'], ['Creatinine', '6135'], ['Urea Nitrogen', '6126'], ['ABG', '5554']]\n"
     ]
    }
   ],
   "source": [
    "#remove header\n",
    "lab_events = lab_data[1:]\n",
    "print(lab_events)"
   ],
   "metadata": {
    "collapsed": false,
    "pycharm": {
     "name": "#%%\n"
    }
   }
  },
  {
   "cell_type": "code",
   "execution_count": 5,
   "outputs": [
    {
     "name": "stdout",
     "output_type": "stream",
     "text": [
      "[['Metoprolol', '4652'], ['Diuretic', '3424'], ['Insulin', '4202'], ['Acetaminophen', '3090'], ['Ranitidine', '2316'], ['Aspirin', '2770'], ['Opioid', '1786'], ['Dextrose 50%', '1773'], ['Magnesium Sulfate', '1536'], ['Propofol', '1526'], ['CefazoLIN', '1473'], ['Nitroglycerin', '1374'], ['Amiodarone', '1258'], ['Metoclopramide', '1188'], ['Ketorolac', '1120'], ['Opioid', '1026'], ['PHENYLEPHrine', '1777'], ['Warfarin', '973'], ['Calcium Gluconate', '967'], ['Glucagon', '875'], ['Lipid Loweding', '871'], ['Oxycodone-Acetaminophen', '1410'], ['Acetaminophen', '685'], ['Lipid Loweding', '549'], ['Albumin', '508'], ['Opioid', '468'], ['HydrALAzine', '422'], ['Vancomycin', '404'], ['Ondansetron', '400'], ['Lisinopril', '383'], ['Opioid', '381'], ['Albuterol', '364'], ['Opioid', '331'], ['MetFORMIN (Glucophage)', '308'], ['Lorazepam', '283'], ['Clopidogrel', '282'], ['Pantoprazole', '281']]\n"
     ]
    }
   ],
   "source": [
    "#remove header\n",
    "drug_events = drug_data[1:]\n",
    "print(drug_events)"
   ],
   "metadata": {
    "collapsed": false,
    "pycharm": {
     "name": "#%%\n"
    }
   }
  },
  {
   "cell_type": "markdown",
   "source": [
    "Create a dictionary to filtering the full event log"
   ],
   "metadata": {
    "collapsed": false,
    "pycharm": {
     "name": "#%% md\n"
    }
   }
  },
  {
   "cell_type": "code",
   "execution_count": 6,
   "outputs": [
    {
     "name": "stdout",
     "output_type": "stream",
     "text": [
      "{'Glucose': 13119, 'CBC': 64108, 'ABG': 51563, 'Specimen Type': 10307, 'Electrolytes': 27868, 'Calcium': 6520, 'Creatinine': 6135, 'Urea Nitrogen': 6126}\n"
     ]
    }
   ],
   "source": [
    "#pop the data into dict for further reference\n",
    "lab_dict = {}\n",
    "for lab in lab_events:\n",
    "    if lab[0] in lab_dict:\n",
    "        lab_dict[lab[0]] += int(lab[1])\n",
    "    else:\n",
    "        lab_dict[lab[0]] = int(lab[1])\n",
    "print(lab_dict)"
   ],
   "metadata": {
    "collapsed": false,
    "pycharm": {
     "name": "#%%\n"
    }
   }
  },
  {
   "cell_type": "code",
   "execution_count": 7,
   "outputs": [
    {
     "name": "stdout",
     "output_type": "stream",
     "text": [
      "{'Metoprolol': 4652, 'Diuretic': 3424, 'Insulin': 4202, 'Acetaminophen': 3775, 'Ranitidine': 2316, 'Aspirin': 2770, 'Opioid': 3992, 'Dextrose 50%': 1773, 'Magnesium Sulfate': 1536, 'Propofol': 1526, 'CefazoLIN': 1473, 'Nitroglycerin': 1374, 'Amiodarone': 1258, 'Metoclopramide': 1188, 'Ketorolac': 1120, 'PHENYLEPHrine': 1777, 'Warfarin': 973, 'Calcium Gluconate': 967, 'Glucagon': 875, 'Lipid Loweding': 1420, 'Oxycodone-Acetaminophen': 1410, 'Albumin': 508, 'HydrALAzine': 422, 'Vancomycin': 404, 'Ondansetron': 400, 'Lisinopril': 383, 'Albuterol': 364, 'MetFORMIN (Glucophage)': 308, 'Lorazepam': 283, 'Clopidogrel': 282, 'Pantoprazole': 281}\n"
     ]
    }
   ],
   "source": [
    "#pop the data into dict\n",
    "drug_dict = {}\n",
    "for drug in drug_events:\n",
    "    if drug[0] in drug_dict:\n",
    "        drug_dict[drug[0]] += int(drug[1])\n",
    "    else:\n",
    "        drug_dict[drug[0]] = int(drug[1])\n",
    "print(drug_dict)"
   ],
   "metadata": {
    "collapsed": false,
    "pycharm": {
     "name": "#%%\n"
    }
   }
  },
  {
   "cell_type": "markdown",
   "source": [
    "For reading and recording purposes, these new dictionaries will be written into new csv files."
   ],
   "metadata": {
    "collapsed": false,
    "pycharm": {
     "name": "#%% md\n"
    }
   }
  },
  {
   "cell_type": "code",
   "execution_count": 8,
   "outputs": [],
   "source": [
    "#write to the merged file\n",
    "write_file = open('preliminary_lab_events_merged.csv', 'w')\n",
    "writer = csv.writer(write_file)\n",
    "#add back the header\n",
    "writer.writerow(['LabEvents', 'LabCount'])\n",
    "for key, value in lab_dict.items():\n",
    "    writer.writerow([key, value])\n",
    "write_file.close()"
   ],
   "metadata": {
    "collapsed": false,
    "pycharm": {
     "name": "#%%\n"
    }
   }
  },
  {
   "cell_type": "code",
   "execution_count": 9,
   "outputs": [],
   "source": [
    "#write to the merged file\n",
    "write_file1 = open('preliminary_drug_events_merged.csv', 'w')\n",
    "writer1 = csv.writer(write_file1)\n",
    "#add back the header\n",
    "writer1.writerow(['DrugEvents', 'DrugCount'])\n",
    "for key, value in drug_dict.items():\n",
    "    writer1.writerow([key, value])\n",
    "write_file1.close()"
   ],
   "metadata": {
    "collapsed": false,
    "pycharm": {
     "name": "#%%\n"
    }
   }
  },
  {
   "cell_type": "markdown",
   "source": [
    "Till this step, the reference dictionaries have been created and we will need them to process the full events."
   ],
   "metadata": {
    "collapsed": false,
    "pycharm": {
     "name": "#%% md\n"
    }
   }
  },
  {
   "cell_type": "code",
   "execution_count": 10,
   "outputs": [
    {
     "name": "stdout",
     "output_type": "stream",
     "text": [
      "[['PatientID', 'Events', 'StartTime'], ['10002013', 'Hemoglobin', '2160-05-18T09:19:00'], ['10002013', 'Free Calcium', '2160-05-18T09:19:00'], ['10002013', 'pO2', '2160-05-18T09:19:00'], ['10002013', 'Intubated', '2160-05-18T09:19:00'], ['10002013', 'pH', '2160-05-18T09:19:00'], ['10002013', 'Hematocrit, Calculated', '2160-05-18T09:19:00'], ['10002013', 'pCO2', '2160-05-18T09:19:00'], ['10002013', 'Glucose', '2160-05-18T09:19:00'], ['10002013', 'Base Excess', '2160-05-18T09:19:00'], ['10002013', 'Sodium, Whole Blood', '2160-05-18T09:19:00'], ['10002013', 'Calculated Total CO2', '2160-05-18T09:19:00'], ['10002013', 'Lactate', '2160-05-18T09:19:00'], ['10002013', 'Ventilator', '2160-05-18T09:19:00'], ['10002013', 'Chloride, Whole Blood', '2160-05-18T09:19:00'], ['10002013', 'Potassium, Whole Blood', '2160-05-18T09:19:00'], ['10002013', 'Specimen Type', '2160-05-18T09:19:00'], ['10002013', 'Chloride, Whole Blood', '2160-05-18T10:26:00'], ['10002013', 'pO2', '2160-05-18T10:26:00'], ['10002013', 'Glucose', '2160-05-18T10:26:00']]\n"
     ]
    }
   ],
   "source": [
    "with open('events_full.csv', newline='') as file2:\n",
    "    reader2 = csv.reader(file2)\n",
    "    full_events_data = list(reader2)\n",
    "file2.close()\n",
    "print(full_events_data[:20])"
   ],
   "metadata": {
    "collapsed": false,
    "pycharm": {
     "name": "#%%\n"
    }
   }
  },
  {
   "cell_type": "markdown",
   "source": [
    "Likewise, we will remove the headers and pop them into the variables."
   ],
   "metadata": {
    "collapsed": false,
    "pycharm": {
     "name": "#%% md\n"
    }
   }
  },
  {
   "cell_type": "code",
   "execution_count": 11,
   "outputs": [],
   "source": [
    "#remove the header\n",
    "events_list = full_events_data[1:]"
   ],
   "metadata": {
    "collapsed": false,
    "pycharm": {
     "name": "#%%\n"
    }
   }
  },
  {
   "cell_type": "markdown",
   "source": [
    "Inspect the event boundaries"
   ],
   "metadata": {
    "collapsed": false,
    "pycharm": {
     "name": "#%% md\n"
    }
   }
  },
  {
   "cell_type": "code",
   "execution_count": 12,
   "outputs": [
    {
     "name": "stdout",
     "output_type": "stream",
     "text": [
      "['13365915', 'Ketone', '2179-01-19T02:40:00']\n"
     ]
    }
   ],
   "source": [
    "#confirm where the last lab event is\n",
    "print(events_list[71258])"
   ],
   "metadata": {
    "collapsed": false,
    "pycharm": {
     "name": "#%%\n"
    }
   }
  },
  {
   "cell_type": "code",
   "execution_count": 13,
   "outputs": [
    {
     "name": "stdout",
     "output_type": "stream",
     "text": [
      "['17823467', 'Insulin', '2134-02-19T18:00:00']\n"
     ]
    }
   ],
   "source": [
    "#confirm where the last drug event is\n",
    "print(events_list[140066])"
   ],
   "metadata": {
    "collapsed": false,
    "pycharm": {
     "name": "#%%\n"
    }
   }
  },
  {
   "cell_type": "markdown",
   "source": [
    "Using clinical process and experience, we will manually filter the events"
   ],
   "metadata": {
    "collapsed": false,
    "pycharm": {
     "name": "#%% md\n"
    }
   }
  },
  {
   "cell_type": "code",
   "execution_count": 14,
   "outputs": [],
   "source": [
    "for event in events_list[:71259]:\n",
    "    if event[1] == 'Hemoglobin':\n",
    "        event[1] = 'CBC'\n",
    "    elif event[1] == 'Hematocrit':\n",
    "        event[1] = 'CBC'\n",
    "    elif event[1] == 'Potassium, Whole Blood':\n",
    "        event[1] = 'Electrolytes' #update from Potassium to Electrolytes\n",
    "    elif event[1] == 'Free Calcium':\n",
    "        event[1] = 'Calcium'\n",
    "    elif event[1] == 'White Blood Cells':\n",
    "        event[1] = 'CBC'\n",
    "    elif event[1] == 'MCHC':\n",
    "        event[1] = 'CBC'\n",
    "    elif event[1] == 'Red Blood Cells':\n",
    "        event[1] = 'CBC'\n",
    "    elif event[1] == 'MCH':\n",
    "        event[1] = 'CBC'\n",
    "    elif event[1] == 'MCV':\n",
    "        event[1] = 'CBC'\n",
    "    elif event[1] == 'RDW':\n",
    "        event[1] = 'CBC'\n",
    "    elif event[1] == 'Hematocrit, Calculated':\n",
    "        event[1] = 'CBC'\n",
    "    elif event[1] == 'INR(PT)':\n",
    "        event[1] = 'PT'\n",
    "    elif event[1] == 'Sodium, Whole Blood':\n",
    "        event[1] = 'Electrolytes' #update from Potassium to Electrolytes\n",
    "    elif event[1] == 'Chloride, Whole Blood':\n",
    "        event[1] = 'Electrolytes' #update from Potassium to Electrolytes\n",
    "    elif event[1] == 'Calcium, Total':\n",
    "        event[1] = 'Calcium'\n",
    "    #the following are new filtering criteria\n",
    "    elif event[1] == 'pH':\n",
    "        event[1] = 'ABG'\n",
    "    elif event[1] == 'Calculated Total CO2':\n",
    "        event[1] = 'ABG'\n",
    "    elif event[1] == 'Base Excess':\n",
    "        event[1] = 'ABG'\n",
    "    elif event[1] == 'pO2':\n",
    "        event[1] = 'ABG'\n",
    "    elif event[1] == 'pCO2':\n",
    "        event[1] = 'ABG'\n",
    "    elif event[1] == 'Potassium':\n",
    "        event[1] = 'Electrolytes'\n",
    "    elif event[1] == 'Chloride':\n",
    "        event[1] = 'Electrolytes'\n",
    "    elif event[1] == 'Sodium':\n",
    "        event[1] = 'Electrolytes'\n",
    "    elif event[1] == 'Platelet Count':\n",
    "        event[1] = 'CBC'\n",
    "    elif event[1] == 'White Blood Cells':\n",
    "        event[1] = 'CBC'"
   ],
   "metadata": {
    "collapsed": false,
    "pycharm": {
     "name": "#%%\n"
    }
   }
  },
  {
   "cell_type": "code",
   "execution_count": 22,
   "outputs": [
    {
     "name": "stdout",
     "output_type": "stream",
     "text": [
      "55612\n"
     ]
    }
   ],
   "source": [
    "temp_event_list = events_list[:71259]\n",
    "filtered_lab = []\n",
    "for event in temp_event_list:\n",
    "    #if event[1] not in lab_dict.keys():\n",
    "        #temp_event_list.remove(event)\n",
    "    if event[1] in lab_dict.keys():\n",
    "        filtered_lab.append(event)\n",
    "\n",
    "print(len(filtered_lab))#number of events after final lab event filtering"
   ],
   "metadata": {
    "collapsed": false,
    "pycharm": {
     "name": "#%%\n"
    }
   }
  },
  {
   "cell_type": "code",
   "execution_count": 21,
   "outputs": [
    {
     "name": "stdout",
     "output_type": "stream",
     "text": [
      "[['10002013', 'CBC', '2160-05-18T09:19:00'], ['10002013', 'Calcium', '2160-05-18T09:19:00'], ['10002013', 'ABG', '2160-05-18T09:19:00'], ['10002013', 'ABG', '2160-05-18T09:19:00'], ['10002013', 'CBC', '2160-05-18T09:19:00'], ['10002013', 'ABG', '2160-05-18T09:19:00'], ['10002013', 'Glucose', '2160-05-18T09:19:00'], ['10002013', 'ABG', '2160-05-18T09:19:00'], ['10002013', 'Electrolytes', '2160-05-18T09:19:00'], ['10002013', 'ABG', '2160-05-18T09:19:00'], ['10002013', 'Electrolytes', '2160-05-18T09:19:00'], ['10002013', 'Electrolytes', '2160-05-18T09:19:00'], ['10002013', 'Specimen Type', '2160-05-18T09:19:00'], ['10002013', 'Electrolytes', '2160-05-18T10:26:00'], ['10002013', 'ABG', '2160-05-18T10:26:00'], ['10002013', 'Glucose', '2160-05-18T10:26:00'], ['10002013', 'CBC', '2160-05-18T10:26:00'], ['10002013', 'Calcium', '2160-05-18T10:26:00'], ['10002013', 'ABG', '2160-05-18T10:26:00'], ['10002013', 'ABG', '2160-05-18T10:26:00']]\n"
     ]
    }
   ],
   "source": [
    "print(filtered_lab[:20])"
   ],
   "metadata": {
    "collapsed": false,
    "pycharm": {
     "name": "#%%\n"
    }
   }
  },
  {
   "cell_type": "code",
   "execution_count": 23,
   "outputs": [],
   "source": [
    "for event in events_list[71259:140067]:\n",
    "    if event[1] == 'Pneumococcal Vac Polyvalent':\n",
    "        event[1] = 'Pneumococcal Vaccine'\n",
    "    elif event[1] == 'PNEUMOcoccal 23-valent polysaccharide vaccine':\n",
    "        event[1] = 'Pneumococcal Vaccine'\n",
    "    elif event[1] == 'Phenylephrine':\n",
    "        event[1] = 'PHENYLEPHrine'\n",
    "    elif event[1] == 'Oxycodone-Acetaminophen (5mg-325mg)':\n",
    "        event[1] = 'Oxycodone-Acetaminophen'\n",
    "    elif event[1] == 'NS':\n",
    "        event[1] = 'Sodium Chloride 0.9%'\n",
    "    elif event[1] == 'Metoprolol Tartrate':\n",
    "        event[1] = 'Metoprolol'\n",
    "    elif event[1] == 'Metoprolol Succinate XL':\n",
    "        event[1] = 'Metoprolol'\n",
    "    elif event[1] == 'LR':\n",
    "        event[1] = 'Lactated Ringers'\n",
    "    elif event[1] == 'Insulin Human Regular':\n",
    "        event[1] = 'Insulin'\n",
    "    elif event[1] == 'Influenza Virus Vaccine':\n",
    "        event[1] = 'Influenza Vaccine'\n",
    "    elif event[1] == 'Influenza Vaccine Quadrivalent':\n",
    "        event[1] = 'Influenza Vaccine'\n",
    "    elif event[1] == 'Heparin Sodium':\n",
    "        event[1] = 'Heparin'\n",
    "    elif event[1] == 'Epinephrine':\n",
    "        event[1] = 'EPINEPHrine'\n",
    "    elif event[1] == 'Docusate Sodium (Liquid)':\n",
    "        event[1] = 'Docusate Sodium'\n",
    "    elif event[1] == 'Dextrose 5%':\n",
    "        event[1] = '5% Dextrose'\n",
    "    elif event[1] == 'D5W (EXCEL BAG)':\n",
    "        event[1] = '5% Dextrose'\n",
    "    elif event[1] == 'D5W':\n",
    "        event[1] = '5% Dextrose'\n",
    "    elif event[1] == 'Aspirin EC':\n",
    "        event[1] = 'Aspirin'\n",
    "    elif event[1] == 'Albuterol Inhaler':\n",
    "        event[1] = 'Albuterol'\n",
    "    elif event[1] == 'Albuterol 0.083% Neb Soln':\n",
    "        event[1] = 'Albuterol'\n",
    "    elif event[1] == 'Albumin 5% (25g / 500mL)':\n",
    "        event[1] = 'Albumin'\n",
    "    elif event[1] == 'Albumin 5% (12.5g / 250mL)':\n",
    "        event[1] = 'Albumin'\n",
    "    elif event[1] == 'Albumin 25% (12.5g / 50mL)':\n",
    "        event[1] = 'Albumin'\n",
    "    elif event[1] == '5% Dextrose (EXCEL BAG)':\n",
    "        event[1] = '5% Dextrose'\n",
    "    elif event[1] == '0.9% Sodium Chloride (Mini Bag Plus)':\n",
    "        event[1] = 'Sodium Chloride 0.9%'\n",
    "    elif event[1] == '0.9% Sodium Chloride':\n",
    "        event[1] = 'Sodium Chloride 0.9%'\n",
    "    #the following are new filtering criteria\n",
    "    elif event[1] == 'Furosemide':\n",
    "        event[1] = 'Diuretic'\n",
    "    elif event[1] == 'Morphine Sulfate':\n",
    "        event[1] = 'Opioid'\n",
    "    elif event[1] == 'HYDROmorphone (Dilaudid)':\n",
    "        event[1] = 'Opioid'\n",
    "    elif event[1] == 'Atorvastatin':\n",
    "        event[1] = 'Lipid Loweding'\n",
    "    elif event[1] == 'Acetaminophen IV':\n",
    "        event[1] = 'Acetaminophen'\n",
    "    elif event[1] == 'Simvastatin':\n",
    "        event[1] = 'Lipid Loweding'\n",
    "    elif event[1] == 'TraMADOL (Ultram)':\n",
    "        event[1] = 'Opioid'\n",
    "    elif event[1] == 'OxycoDONE (Immediate Release) ':\n",
    "        event[1] = 'Opioid'\n",
    "    elif event[1] == 'Meperidine':\n",
    "        event[1] = 'Opioid'"
   ],
   "metadata": {
    "collapsed": false,
    "pycharm": {
     "name": "#%%\n"
    }
   }
  },
  {
   "cell_type": "code",
   "execution_count": 24,
   "outputs": [
    {
     "name": "stdout",
     "output_type": "stream",
     "text": [
      "38073\n"
     ]
    }
   ],
   "source": [
    "temp_drug_list = events_list[71259:140067]\n",
    "filtered_drug = []\n",
    "for event in temp_drug_list:\n",
    "    #if event[1] not in list(drug_dict.keys()):\n",
    "        #temp_drug_list.remove(event)\n",
    "    if event[1] in drug_dict.keys():\n",
    "        filtered_drug.append(event)\n",
    "\n",
    "print(len(filtered_drug)) #number of events after final drug event filtering"
   ],
   "metadata": {
    "collapsed": false,
    "pycharm": {
     "name": "#%%\n"
    }
   }
  },
  {
   "cell_type": "code",
   "execution_count": 25,
   "outputs": [
    {
     "name": "stdout",
     "output_type": "stream",
     "text": [
      "[['10002013', 'Lipid Loweding', '2160-05-18T10:00:00'], ['10002013', 'Clopidogrel', '2160-05-18T10:00:00'], ['10002013', 'PHENYLEPHrine', '2160-05-18T11:00:00'], ['10002013', 'Opioid', '2160-05-18T11:00:00'], ['10002013', 'Opioid', '2160-05-18T11:00:00'], ['10002013', 'Calcium Gluconate', '2160-05-18T11:00:00'], ['10002013', 'Metoclopramide', '2160-05-18T11:00:00'], ['10002013', 'Magnesium Sulfate', '2160-05-18T11:00:00'], ['10002013', 'CefazoLIN', '2160-05-18T11:00:00'], ['10002013', 'Nitroglycerin', '2160-05-18T11:00:00'], ['10002013', 'Nitroglycerin', '2160-05-18T11:00:00'], ['10002013', 'Insulin', '2160-05-18T11:00:00'], ['10002013', 'Oxycodone-Acetaminophen', '2160-05-18T11:00:00'], ['10002013', 'PHENYLEPHrine', '2160-05-18T11:00:00'], ['10002013', 'Dextrose 50%', '2160-05-18T11:00:00'], ['10002013', 'Acetaminophen', '2160-05-18T11:00:00'], ['10002013', 'Acetaminophen', '2160-05-18T11:00:00'], ['10002013', 'Propofol', '2160-05-18T11:00:00'], ['10002013', 'Opioid', '2160-05-18T11:00:00'], ['10002013', 'HydrALAzine', '2160-05-18T18:00:00']]\n"
     ]
    }
   ],
   "source": [
    "print(filtered_drug[:20])"
   ],
   "metadata": {
    "collapsed": false,
    "pycharm": {
     "name": "#%%\n"
    }
   }
  },
  {
   "cell_type": "markdown",
   "source": [
    "In the last step, write the filtered events to the file"
   ],
   "metadata": {
    "collapsed": false,
    "pycharm": {
     "name": "#%% md\n"
    }
   }
  },
  {
   "cell_type": "code",
   "execution_count": 26,
   "outputs": [],
   "source": [
    "write_file2 = open('events_final.csv', 'w')\n",
    "writer2 = csv.writer(write_file2)\n",
    "writer2.writerow(['PatientID', 'Events', 'StartTime'])\n",
    "for row in filtered_lab:\n",
    "    writer2.writerow([row[0], row[1], row[2]])\n",
    "write_file2.close()"
   ],
   "metadata": {
    "collapsed": false,
    "pycharm": {
     "name": "#%%\n"
    }
   }
  },
  {
   "cell_type": "code",
   "execution_count": 27,
   "outputs": [],
   "source": [
    "write_file3 = open('events_final.csv', 'a')\n",
    "writer3 = csv.writer(write_file3)\n",
    "for row in filtered_drug:\n",
    "    writer3.writerow([row[0], row[1], row[2]])\n",
    "write_file3.close()"
   ],
   "metadata": {
    "collapsed": false,
    "pycharm": {
     "name": "#%%\n"
    }
   }
  },
  {
   "cell_type": "code",
   "execution_count": null,
   "outputs": [],
   "source": [],
   "metadata": {
    "collapsed": false,
    "pycharm": {
     "name": "#%%\n"
    }
   }
  }
 ],
 "metadata": {
  "kernelspec": {
   "display_name": "Python 3",
   "language": "python",
   "name": "python3"
  },
  "language_info": {
   "codemirror_mode": {
    "name": "ipython",
    "version": 2
   },
   "file_extension": ".py",
   "mimetype": "text/x-python",
   "name": "python",
   "nbconvert_exporter": "python",
   "pygments_lexer": "ipython2",
   "version": "2.7.6"
  }
 },
 "nbformat": 4,
 "nbformat_minor": 0
}