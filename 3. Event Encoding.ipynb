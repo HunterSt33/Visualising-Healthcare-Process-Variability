{
 "cells": [
  {
   "cell_type": "markdown",
   "metadata": {
    "collapsed": true,
    "pycharm": {
     "name": "#%% md\n"
    }
   },
   "source": [
    "# Event Encoding"
   ]
  },
  {
   "cell_type": "markdown",
   "source": [
    "Author: Hunter Chen, The University of Melbourne\n",
    "Supervisor: Daniel Capurro, The University of Melbourne\n",
    "\n",
    "Declaration: This file is part of the source code for the project 'Visualising the Healthcare Process Variability', conducted by Hunter Chen under the supervision of Daniel Capurro in 2022. You are welcome to further develop this code, and please include an acknowledgment to the author. Thank you for your cooperation."
   ],
   "metadata": {
    "collapsed": false,
    "pycharm": {
     "name": "#%% md\n"
    }
   }
  },
  {
   "cell_type": "markdown",
   "source": [
    "After filtering the events, the next step is to encode the event names. In other words, some event names can be quite long to be presented. For better visualisation purposes, these names will be represented by the combinations of alphabets and numbers."
   ],
   "metadata": {
    "collapsed": false,
    "pycharm": {
     "name": "#%% md\n"
    }
   }
  },
  {
   "cell_type": "markdown",
   "source": [
    "In the preprocessing stage, we have merged the counts for all lab and drug events. Meanwhile for service, admission and discharge events, there are certain standard names for them so it is easier to process. To create a list of distinct event names, we will first process the service events."
   ],
   "metadata": {
    "collapsed": false,
    "pycharm": {
     "name": "#%% md\n"
    }
   }
  },
  {
   "cell_type": "code",
   "execution_count": 1,
   "outputs": [],
   "source": [
    "import csv"
   ],
   "metadata": {
    "collapsed": false,
    "pycharm": {
     "name": "#%%\n"
    }
   }
  },
  {
   "cell_type": "code",
   "execution_count": 2,
   "outputs": [
    {
     "name": "stdout",
     "output_type": "stream",
     "text": [
      "[['PatientID', 'Events', 'StartTime'], ['10002013', 'CBC', '2160-05-18T09:19:00'], ['10002013', 'Calcium', '2160-05-18T09:19:00'], ['10002013', 'ABG', '2160-05-18T09:19:00'], ['10002013', 'ABG', '2160-05-18T09:19:00']]\n"
     ]
    }
   ],
   "source": [
    "with open('events_final.csv', newline='') as file:\n",
    "    reader = csv.reader(file)\n",
    "    event_data = list(reader)\n",
    "\n",
    "file.close()\n",
    "print(event_data[:5])"
   ],
   "metadata": {
    "collapsed": false,
    "pycharm": {
     "name": "#%%\n"
    }
   }
  },
  {
   "cell_type": "code",
   "execution_count": 9,
   "outputs": [
    {
     "name": "stdout",
     "output_type": "stream",
     "text": [
      "['10002013', 'CSURG', '2160-05-18T01:49:32']\n",
      "['19995790', 'CSURG', '2185-02-02T03:08:40']\n"
     ]
    }
   ],
   "source": [
    "#inspect the first and the last service events\n",
    "print(event_data[106887]) #first\n",
    "print(event_data[107826]) #last"
   ],
   "metadata": {
    "collapsed": false,
    "pycharm": {
     "name": "#%%\n"
    }
   }
  },
  {
   "cell_type": "markdown",
   "source": [
    "Following a similar approach we did for lab and drug events, a new dictionary will be created for service data"
   ],
   "metadata": {
    "collapsed": false,
    "pycharm": {
     "name": "#%% md\n"
    }
   }
  },
  {
   "cell_type": "code",
   "execution_count": 11,
   "outputs": [
    {
     "name": "stdout",
     "output_type": "stream",
     "text": [
      "{'CSURG': 894, 'MED': 18, 'CMED': 26, 'SURG': 1, 'TSURG': 1}\n"
     ]
    }
   ],
   "source": [
    "temp_service_list = event_data[106887:107827]\n",
    "\n",
    "service_dict = {}\n",
    "for event in temp_service_list:\n",
    "    if event[1] in service_dict:\n",
    "        service_dict[event[1]] += 1\n",
    "    else:\n",
    "        service_dict[event[1]] = 1\n",
    "print(service_dict)"
   ],
   "metadata": {
    "collapsed": false,
    "pycharm": {
     "name": "#%%\n"
    }
   }
  },
  {
   "cell_type": "markdown",
   "source": [
    "Then we merge all the distinct events together into one file"
   ],
   "metadata": {
    "collapsed": false,
    "pycharm": {
     "name": "#%% md\n"
    }
   }
  },
  {
   "cell_type": "code",
   "execution_count": 15,
   "outputs": [],
   "source": [
    "full_distinct_event = []"
   ],
   "metadata": {
    "collapsed": false,
    "pycharm": {
     "name": "#%%\n"
    }
   }
  },
  {
   "cell_type": "markdown",
   "source": [
    "Distinct Lab Events"
   ],
   "metadata": {
    "collapsed": false,
    "pycharm": {
     "name": "#%% md\n"
    }
   }
  },
  {
   "cell_type": "code",
   "execution_count": 14,
   "outputs": [
    {
     "name": "stdout",
     "output_type": "stream",
     "text": [
      "[['LabEvents', 'LabCount'], ['Glucose', '13119'], ['CBC', '64108'], ['ABG', '51563'], ['Specimen Type', '10307'], ['Electrolytes', '27868'], ['Calcium', '6520'], ['Creatinine', '6135'], ['Urea Nitrogen', '6126']]\n"
     ]
    }
   ],
   "source": [
    "with open('preliminary_lab_events_merged.csv', newline='') as file1:\n",
    "    reader1 = csv.reader(file1)\n",
    "    lab_data = list(reader1)\n",
    "\n",
    "file1.close()\n",
    "print(lab_data)"
   ],
   "metadata": {
    "collapsed": false,
    "pycharm": {
     "name": "#%%\n"
    }
   }
  },
  {
   "cell_type": "code",
   "execution_count": 16,
   "outputs": [
    {
     "name": "stdout",
     "output_type": "stream",
     "text": [
      "['Glucose', 'CBC', 'ABG', 'Specimen Type', 'Electrolytes', 'Calcium', 'Creatinine', 'Urea Nitrogen']\n"
     ]
    }
   ],
   "source": [
    "for event in lab_data[1:]:\n",
    "    full_distinct_event.append(event[0])\n",
    "print(full_distinct_event)"
   ],
   "metadata": {
    "collapsed": false,
    "pycharm": {
     "name": "#%%\n"
    }
   }
  },
  {
   "cell_type": "markdown",
   "source": [
    "Distinct Drug Events"
   ],
   "metadata": {
    "collapsed": false,
    "pycharm": {
     "name": "#%% md\n"
    }
   }
  },
  {
   "cell_type": "code",
   "execution_count": 17,
   "outputs": [
    {
     "name": "stdout",
     "output_type": "stream",
     "text": [
      "[['DrugEvents', 'DrugCount'], ['Metoprolol', '4652'], ['Diuretic', '3424'], ['Insulin', '4202'], ['Acetaminophen', '3775'], ['Ranitidine', '2316'], ['Aspirin', '2770'], ['Opioid', '3992'], ['Dextrose 50%', '1773'], ['Magnesium Sulfate', '1536'], ['Propofol', '1526'], ['CefazoLIN', '1473'], ['Nitroglycerin', '1374'], ['Amiodarone', '1258'], ['Metoclopramide', '1188'], ['Ketorolac', '1120'], ['PHENYLEPHrine', '1777'], ['Warfarin', '973'], ['Calcium Gluconate', '967'], ['Glucagon', '875'], ['Lipid Loweding', '1420'], ['Oxycodone-Acetaminophen', '1410'], ['Albumin', '508'], ['HydrALAzine', '422'], ['Vancomycin', '404'], ['Ondansetron', '400'], ['Lisinopril', '383'], ['Albuterol', '364'], ['MetFORMIN (Glucophage)', '308'], ['Lorazepam', '283'], ['Clopidogrel', '282'], ['Pantoprazole', '281']]\n"
     ]
    }
   ],
   "source": [
    "with open('preliminary_drug_events_merged.csv', newline='') as file2:\n",
    "    reader2 = csv.reader(file2)\n",
    "    drug_data = list(reader2)\n",
    "\n",
    "file2.close()\n",
    "print(drug_data)"
   ],
   "metadata": {
    "collapsed": false,
    "pycharm": {
     "name": "#%%\n"
    }
   }
  },
  {
   "cell_type": "code",
   "execution_count": 18,
   "outputs": [
    {
     "name": "stdout",
     "output_type": "stream",
     "text": [
      "['Glucose', 'CBC', 'ABG', 'Specimen Type', 'Electrolytes', 'Calcium', 'Creatinine', 'Urea Nitrogen', 'Metoprolol', 'Diuretic', 'Insulin', 'Acetaminophen', 'Ranitidine', 'Aspirin', 'Opioid', 'Dextrose 50%', 'Magnesium Sulfate', 'Propofol', 'CefazoLIN', 'Nitroglycerin', 'Amiodarone', 'Metoclopramide', 'Ketorolac', 'PHENYLEPHrine', 'Warfarin', 'Calcium Gluconate', 'Glucagon', 'Lipid Loweding', 'Oxycodone-Acetaminophen', 'Albumin', 'HydrALAzine', 'Vancomycin', 'Ondansetron', 'Lisinopril', 'Albuterol', 'MetFORMIN (Glucophage)', 'Lorazepam', 'Clopidogrel', 'Pantoprazole']\n"
     ]
    }
   ],
   "source": [
    "for event in drug_data[1:]:\n",
    "    full_distinct_event.append(event[0])\n",
    "print(full_distinct_event)"
   ],
   "metadata": {
    "collapsed": false,
    "pycharm": {
     "name": "#%%\n"
    }
   }
  },
  {
   "cell_type": "markdown",
   "source": [
    "Distinct Service Events"
   ],
   "metadata": {
    "collapsed": false,
    "pycharm": {
     "name": "#%% md\n"
    }
   }
  },
  {
   "cell_type": "code",
   "execution_count": 20,
   "outputs": [
    {
     "name": "stdout",
     "output_type": "stream",
     "text": [
      "['Glucose', 'CBC', 'ABG', 'Specimen Type', 'Electrolytes', 'Calcium', 'Creatinine', 'Urea Nitrogen', 'Metoprolol', 'Diuretic', 'Insulin', 'Acetaminophen', 'Ranitidine', 'Aspirin', 'Opioid', 'Dextrose 50%', 'Magnesium Sulfate', 'Propofol', 'CefazoLIN', 'Nitroglycerin', 'Amiodarone', 'Metoclopramide', 'Ketorolac', 'PHENYLEPHrine', 'Warfarin', 'Calcium Gluconate', 'Glucagon', 'Lipid Loweding', 'Oxycodone-Acetaminophen', 'Albumin', 'HydrALAzine', 'Vancomycin', 'Ondansetron', 'Lisinopril', 'Albuterol', 'MetFORMIN (Glucophage)', 'Lorazepam', 'Clopidogrel', 'Pantoprazole', 'CSURG', 'MED', 'CMED', 'SURG', 'TSURG']\n"
     ]
    }
   ],
   "source": [
    "for event in service_dict.keys():\n",
    "    full_distinct_event.append(event)\n",
    "print(full_distinct_event)"
   ],
   "metadata": {
    "collapsed": false,
    "pycharm": {
     "name": "#%%\n"
    }
   }
  },
  {
   "cell_type": "markdown",
   "source": [
    "Finally add up the admission and discharge event"
   ],
   "metadata": {
    "collapsed": false,
    "pycharm": {
     "name": "#%% md\n"
    }
   }
  },
  {
   "cell_type": "code",
   "execution_count": 21,
   "outputs": [],
   "source": [
    "full_distinct_event.append('Admission')\n",
    "full_distinct_event.append('Discharge')"
   ],
   "metadata": {
    "collapsed": false,
    "pycharm": {
     "name": "#%%\n"
    }
   }
  },
  {
   "cell_type": "code",
   "execution_count": 22,
   "outputs": [
    {
     "name": "stdout",
     "output_type": "stream",
     "text": [
      "46\n"
     ]
    }
   ],
   "source": [
    "#inspect the length of the distinct events\n",
    "print(len(full_distinct_event))"
   ],
   "metadata": {
    "collapsed": false,
    "pycharm": {
     "name": "#%%\n"
    }
   }
  },
  {
   "cell_type": "markdown",
   "source": [
    "Write the events to a file for encoding"
   ],
   "metadata": {
    "collapsed": false,
    "pycharm": {
     "name": "#%% md\n"
    }
   }
  },
  {
   "cell_type": "code",
   "execution_count": 25,
   "outputs": [],
   "source": [
    "write_file = open('events_encoding.csv', 'w')\n",
    "writer = csv.writer(write_file)\n",
    "writer.writerow(['EventName', 'EventCode'])\n",
    "for row in full_distinct_event:\n",
    "    writer.writerow([row])\n",
    "write_file.close()"
   ],
   "metadata": {
    "collapsed": false,
    "pycharm": {
     "name": "#%%\n"
    }
   }
  },
  {
   "cell_type": "code",
   "execution_count": null,
   "outputs": [],
   "source": [],
   "metadata": {
    "collapsed": false,
    "pycharm": {
     "name": "#%%\n"
    }
   }
  }
 ],
 "metadata": {
  "kernelspec": {
   "display_name": "Python 3",
   "language": "python",
   "name": "python3"
  },
  "language_info": {
   "codemirror_mode": {
    "name": "ipython",
    "version": 2
   },
   "file_extension": ".py",
   "mimetype": "text/x-python",
   "name": "python",
   "nbconvert_exporter": "python",
   "pygments_lexer": "ipython2",
   "version": "2.7.6"
  }
 },
 "nbformat": 4,
 "nbformat_minor": 0
}